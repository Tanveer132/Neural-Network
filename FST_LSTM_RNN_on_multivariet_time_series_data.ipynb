{
  "nbformat": 4,
  "nbformat_minor": 0,
  "metadata": {
    "colab": {
      "name": "FST_LSTM RNN on multivariet time series data.ipynb",
      "provenance": [],
      "authorship_tag": "ABX9TyMQfWhAyzLoHJ1ygtIjQEgu",
      "include_colab_link": true
    },
    "kernelspec": {
      "name": "python3",
      "display_name": "Python 3"
    },
    "language_info": {
      "name": "python"
    }
  },
  "cells": [
    {
      "cell_type": "markdown",
      "metadata": {
        "id": "view-in-github",
        "colab_type": "text"
      },
      "source": [
        "<a href=\"https://colab.research.google.com/github/Tanveer132/Neural-Network/blob/main/FST_LSTM_RNN_on_multivariet_time_series_data.ipynb\" target=\"_parent\"><img src=\"https://colab.research.google.com/assets/colab-badge.svg\" alt=\"Open In Colab\"/></a>"
      ]
    },
    {
      "cell_type": "markdown",
      "metadata": {
        "id": "gm70OvKvQ_yE"
      },
      "source": [
        "#LSTM RNN on sample data"
      ]
    },
    {
      "cell_type": "code",
      "metadata": {
        "id": "BSO-Hsw8FB9x"
      },
      "source": [
        "import pandas as pd\n",
        "import numpy as np\n",
        "import matplotlib.pyplot as plt\n",
        "\n",
        "from sklearn.preprocessing import StandardScaler,MinMaxScaler"
      ],
      "execution_count": 38,
      "outputs": []
    },
    {
      "cell_type": "code",
      "metadata": {
        "id": "RrXP19rMFUYd"
      },
      "source": [
        "col_1=np.array([10,20,30,40,50,60,70,80,90])\n",
        "col_2=np.array([15,25,35,45,55,65,75,85,95])\n"
      ],
      "execution_count": 25,
      "outputs": []
    },
    {
      "cell_type": "code",
      "metadata": {
        "colab": {
          "base_uri": "https://localhost:8080/"
        },
        "id": "fyean9GnGGq0",
        "outputId": "3d19d762-dc59-4780-e967-f45fd0f7784f"
      },
      "source": [
        "out=[]\n",
        "for i in range (len(col_1)):\n",
        "  out.append(col_1[i]+col_2[i])\n",
        "\n",
        "out_col=np.array(out)\n",
        "out_col\n",
        "#out_col=col_1+col_2"
      ],
      "execution_count": 26,
      "outputs": [
        {
          "output_type": "execute_result",
          "data": {
            "text/plain": [
              "array([ 25,  45,  65,  85, 105, 125, 145, 165, 185])"
            ]
          },
          "metadata": {
            "tags": []
          },
          "execution_count": 26
        }
      ]
    },
    {
      "cell_type": "code",
      "metadata": {
        "colab": {
          "base_uri": "https://localhost:8080/"
        },
        "id": "qi_X3_ZrGlTL",
        "outputId": "0de8c4e4-24de-4990-de81-4cec4502687a"
      },
      "source": [
        "#reshape data\n",
        "col_1=col_1.reshape(len(col_1),1)\n",
        "col_2=col_2.reshape(len(col_2),1)\n",
        "out_col=out_col.reshape(len(out_col),1)\n",
        "col_1"
      ],
      "execution_count": 31,
      "outputs": [
        {
          "output_type": "execute_result",
          "data": {
            "text/plain": [
              "array([[10],\n",
              "       [20],\n",
              "       [30],\n",
              "       [40],\n",
              "       [50],\n",
              "       [60],\n",
              "       [70],\n",
              "       [80],\n",
              "       [90]])"
            ]
          },
          "metadata": {
            "tags": []
          },
          "execution_count": 31
        }
      ]
    },
    {
      "cell_type": "code",
      "metadata": {
        "colab": {
          "base_uri": "https://localhost:8080/"
        },
        "id": "3wqjyqzrHfML",
        "outputId": "e031f20a-8cf3-45d5-bba2-c3bf325eb455"
      },
      "source": [
        "data=np.hstack((col_1,col_2,out_col))\n",
        "data"
      ],
      "execution_count": 30,
      "outputs": [
        {
          "output_type": "execute_result",
          "data": {
            "text/plain": [
              "array([[ 10,  15,  25],\n",
              "       [ 20,  25,  45],\n",
              "       [ 30,  35,  65],\n",
              "       [ 40,  45,  85],\n",
              "       [ 50,  55, 105],\n",
              "       [ 60,  65, 125],\n",
              "       [ 70,  75, 145],\n",
              "       [ 80,  85, 165],\n",
              "       [ 90,  95, 185]])"
            ]
          },
          "metadata": {
            "tags": []
          },
          "execution_count": 30
        }
      ]
    },
    {
      "cell_type": "code",
      "metadata": {
        "id": "zVN9LAMWHm3u"
      },
      "source": [
        "#len(data)=9\n",
        "#nsteps=3\n",
        "def featureTransform(n_steps,data):\n",
        "  x=[]\n",
        "  y=[]\n",
        "  for i in range(n_steps,len(data)+1):\n",
        "    x.append(data[i-n_steps:i,:-1])\n",
        "    y.append(data[i-1,-1])\n",
        "  x,y=np.array(x),np.array(y)\n",
        "  return x,y"
      ],
      "execution_count": 18,
      "outputs": []
    },
    {
      "cell_type": "code",
      "metadata": {
        "colab": {
          "base_uri": "https://localhost:8080/"
        },
        "id": "vuDgGn4fIRn8",
        "outputId": "6f6d49ac-dc37-4dab-eb0d-0c5899586fe3"
      },
      "source": [
        "n_steps=3\n",
        "xtrain,ytrain=featureTransform(n_steps,data)\n",
        "xtrain,xtrain.shape"
      ],
      "execution_count": 19,
      "outputs": [
        {
          "output_type": "execute_result",
          "data": {
            "text/plain": [
              "(array([[[10, 15],\n",
              "         [20, 25],\n",
              "         [30, 35]],\n",
              " \n",
              "        [[20, 25],\n",
              "         [30, 35],\n",
              "         [40, 45]],\n",
              " \n",
              "        [[30, 35],\n",
              "         [40, 45],\n",
              "         [50, 55]],\n",
              " \n",
              "        [[40, 45],\n",
              "         [50, 55],\n",
              "         [60, 65]],\n",
              " \n",
              "        [[50, 55],\n",
              "         [60, 65],\n",
              "         [70, 75]],\n",
              " \n",
              "        [[60, 65],\n",
              "         [70, 75],\n",
              "         [80, 85]],\n",
              " \n",
              "        [[70, 75],\n",
              "         [80, 85],\n",
              "         [90, 95]]]), (7, 3, 2))"
            ]
          },
          "metadata": {
            "tags": []
          },
          "execution_count": 19
        }
      ]
    },
    {
      "cell_type": "code",
      "metadata": {
        "colab": {
          "base_uri": "https://localhost:8080/"
        },
        "id": "n4iXJa6HIcK9",
        "outputId": "07019dbd-f386-4922-bb25-e1bf0afd9cb2"
      },
      "source": [
        "from keras.layers import LSTM\n",
        "from keras.layers import Dense\n",
        "from keras import Sequential\n",
        "\n",
        "#build model\n",
        "model=Sequential()\n",
        "model.add(LSTM(50,activation='relu',input_shape=(n_steps,xtrain.shape[2])))    #input shape= row:col\n",
        "model.add(Dense(1))\n",
        "model.compile(loss='mse',optimizer='adam')\n",
        "\n",
        "model.summary()"
      ],
      "execution_count": 20,
      "outputs": [
        {
          "output_type": "stream",
          "text": [
            "Model: \"sequential\"\n",
            "_________________________________________________________________\n",
            "Layer (type)                 Output Shape              Param #   \n",
            "=================================================================\n",
            "lstm (LSTM)                  (None, 50)                10600     \n",
            "_________________________________________________________________\n",
            "dense (Dense)                (None, 1)                 51        \n",
            "=================================================================\n",
            "Total params: 10,651\n",
            "Trainable params: 10,651\n",
            "Non-trainable params: 0\n",
            "_________________________________________________________________\n"
          ],
          "name": "stdout"
        }
      ]
    },
    {
      "cell_type": "code",
      "metadata": {
        "colab": {
          "base_uri": "https://localhost:8080/"
        },
        "id": "CPkag-8tLd09",
        "outputId": "7bdc1739-7b23-4407-a903-7caa30b1ee96"
      },
      "source": [
        "history=model.fit(xtrain,ytrain,epochs=100)"
      ],
      "execution_count": 21,
      "outputs": [
        {
          "output_type": "stream",
          "text": [
            "Epoch 1/100\n",
            "1/1 [==============================] - 2s 2s/step - loss: 14782.7969\n",
            "Epoch 2/100\n",
            "1/1 [==============================] - 0s 5ms/step - loss: 14508.3965\n",
            "Epoch 3/100\n",
            "1/1 [==============================] - 0s 6ms/step - loss: 14237.5723\n",
            "Epoch 4/100\n",
            "1/1 [==============================] - 0s 7ms/step - loss: 13974.8525\n",
            "Epoch 5/100\n",
            "1/1 [==============================] - 0s 8ms/step - loss: 13720.4980\n",
            "Epoch 6/100\n",
            "1/1 [==============================] - 0s 9ms/step - loss: 13474.4199\n",
            "Epoch 7/100\n",
            "1/1 [==============================] - 0s 10ms/step - loss: 13236.5459\n",
            "Epoch 8/100\n",
            "1/1 [==============================] - 0s 10ms/step - loss: 13007.0059\n",
            "Epoch 9/100\n",
            "1/1 [==============================] - 0s 7ms/step - loss: 12785.1064\n",
            "Epoch 10/100\n",
            "1/1 [==============================] - 0s 8ms/step - loss: 12569.3047\n",
            "Epoch 11/100\n",
            "1/1 [==============================] - 0s 6ms/step - loss: 12357.9580\n",
            "Epoch 12/100\n",
            "1/1 [==============================] - 0s 6ms/step - loss: 12149.7217\n",
            "Epoch 13/100\n",
            "1/1 [==============================] - 0s 7ms/step - loss: 11942.6221\n",
            "Epoch 14/100\n",
            "1/1 [==============================] - 0s 7ms/step - loss: 11734.4395\n",
            "Epoch 15/100\n",
            "1/1 [==============================] - 0s 6ms/step - loss: 11523.4082\n",
            "Epoch 16/100\n",
            "1/1 [==============================] - 0s 5ms/step - loss: 11307.0869\n",
            "Epoch 17/100\n",
            "1/1 [==============================] - 0s 6ms/step - loss: 11082.7080\n",
            "Epoch 18/100\n",
            "1/1 [==============================] - 0s 6ms/step - loss: 10847.1592\n",
            "Epoch 19/100\n",
            "1/1 [==============================] - 0s 8ms/step - loss: 10597.0127\n",
            "Epoch 20/100\n",
            "1/1 [==============================] - 0s 8ms/step - loss: 10328.6641\n",
            "Epoch 21/100\n",
            "1/1 [==============================] - 0s 6ms/step - loss: 10038.5332\n",
            "Epoch 22/100\n",
            "1/1 [==============================] - 0s 5ms/step - loss: 9723.3691\n",
            "Epoch 23/100\n",
            "1/1 [==============================] - 0s 6ms/step - loss: 9380.5166\n",
            "Epoch 24/100\n",
            "1/1 [==============================] - 0s 14ms/step - loss: 9008.2998\n",
            "Epoch 25/100\n",
            "1/1 [==============================] - 0s 7ms/step - loss: 8606.0068\n",
            "Epoch 26/100\n",
            "1/1 [==============================] - 0s 7ms/step - loss: 8176.0850\n",
            "Epoch 27/100\n",
            "1/1 [==============================] - 0s 9ms/step - loss: 7725.8936\n",
            "Epoch 28/100\n",
            "1/1 [==============================] - 0s 6ms/step - loss: 7265.2686\n",
            "Epoch 29/100\n",
            "1/1 [==============================] - 0s 6ms/step - loss: 6798.0576\n",
            "Epoch 30/100\n",
            "1/1 [==============================] - 0s 5ms/step - loss: 6320.6655\n",
            "Epoch 31/100\n",
            "1/1 [==============================] - 0s 6ms/step - loss: 5830.8359\n",
            "Epoch 32/100\n",
            "1/1 [==============================] - 0s 6ms/step - loss: 5336.3149\n",
            "Epoch 33/100\n",
            "1/1 [==============================] - 0s 8ms/step - loss: 4846.6880\n",
            "Epoch 34/100\n",
            "1/1 [==============================] - 0s 7ms/step - loss: 4363.2085\n",
            "Epoch 35/100\n",
            "1/1 [==============================] - 0s 7ms/step - loss: 3886.2678\n",
            "Epoch 36/100\n",
            "1/1 [==============================] - 0s 7ms/step - loss: 3425.1091\n",
            "Epoch 37/100\n",
            "1/1 [==============================] - 0s 8ms/step - loss: 2992.8499\n",
            "Epoch 38/100\n",
            "1/1 [==============================] - 0s 8ms/step - loss: 2593.7654\n",
            "Epoch 39/100\n",
            "1/1 [==============================] - 0s 8ms/step - loss: 2224.4500\n",
            "Epoch 40/100\n",
            "1/1 [==============================] - 0s 7ms/step - loss: 1877.7511\n",
            "Epoch 41/100\n",
            "1/1 [==============================] - 0s 7ms/step - loss: 1548.3268\n",
            "Epoch 42/100\n",
            "1/1 [==============================] - 0s 6ms/step - loss: 1232.8336\n",
            "Epoch 43/100\n",
            "1/1 [==============================] - 0s 7ms/step - loss: 923.7119\n",
            "Epoch 44/100\n",
            "1/1 [==============================] - 0s 8ms/step - loss: 624.9248\n",
            "Epoch 45/100\n",
            "1/1 [==============================] - 0s 7ms/step - loss: 384.5332\n",
            "Epoch 46/100\n",
            "1/1 [==============================] - 0s 7ms/step - loss: 245.3142\n",
            "Epoch 47/100\n",
            "1/1 [==============================] - 0s 7ms/step - loss: 209.8324\n",
            "Epoch 48/100\n",
            "1/1 [==============================] - 0s 7ms/step - loss: 239.4083\n",
            "Epoch 49/100\n",
            "1/1 [==============================] - 0s 7ms/step - loss: 286.9777\n",
            "Epoch 50/100\n",
            "1/1 [==============================] - 0s 7ms/step - loss: 331.6777\n",
            "Epoch 51/100\n",
            "1/1 [==============================] - 0s 10ms/step - loss: 362.1346\n",
            "Epoch 52/100\n",
            "1/1 [==============================] - 0s 7ms/step - loss: 373.1736\n",
            "Epoch 53/100\n",
            "1/1 [==============================] - 0s 6ms/step - loss: 366.5039\n",
            "Epoch 54/100\n",
            "1/1 [==============================] - 0s 7ms/step - loss: 348.4762\n",
            "Epoch 55/100\n",
            "1/1 [==============================] - 0s 7ms/step - loss: 324.3962\n",
            "Epoch 56/100\n",
            "1/1 [==============================] - 0s 7ms/step - loss: 295.9809\n",
            "Epoch 57/100\n",
            "1/1 [==============================] - 0s 7ms/step - loss: 264.3087\n",
            "Epoch 58/100\n",
            "1/1 [==============================] - 0s 6ms/step - loss: 232.4384\n",
            "Epoch 59/100\n",
            "1/1 [==============================] - 0s 10ms/step - loss: 203.9711\n",
            "Epoch 60/100\n",
            "1/1 [==============================] - 0s 8ms/step - loss: 180.0358\n",
            "Epoch 61/100\n",
            "1/1 [==============================] - 0s 7ms/step - loss: 159.7422\n",
            "Epoch 62/100\n",
            "1/1 [==============================] - 0s 6ms/step - loss: 142.2255\n",
            "Epoch 63/100\n",
            "1/1 [==============================] - 0s 8ms/step - loss: 127.1386\n",
            "Epoch 64/100\n",
            "1/1 [==============================] - 0s 7ms/step - loss: 114.3688\n",
            "Epoch 65/100\n",
            "1/1 [==============================] - 0s 7ms/step - loss: 103.8056\n",
            "Epoch 66/100\n",
            "1/1 [==============================] - 0s 7ms/step - loss: 95.2453\n",
            "Epoch 67/100\n",
            "1/1 [==============================] - 0s 8ms/step - loss: 88.3737\n",
            "Epoch 68/100\n",
            "1/1 [==============================] - 0s 9ms/step - loss: 82.7831\n",
            "Epoch 69/100\n",
            "1/1 [==============================] - 0s 8ms/step - loss: 77.9996\n",
            "Epoch 70/100\n",
            "1/1 [==============================] - 0s 7ms/step - loss: 73.5173\n",
            "Epoch 71/100\n",
            "1/1 [==============================] - 0s 8ms/step - loss: 68.8354\n",
            "Epoch 72/100\n",
            "1/1 [==============================] - 0s 8ms/step - loss: 63.5071\n",
            "Epoch 73/100\n",
            "1/1 [==============================] - 0s 9ms/step - loss: 57.2299\n",
            "Epoch 74/100\n",
            "1/1 [==============================] - 0s 9ms/step - loss: 50.0568\n",
            "Epoch 75/100\n",
            "1/1 [==============================] - 0s 8ms/step - loss: 42.9669\n",
            "Epoch 76/100\n",
            "1/1 [==============================] - 0s 9ms/step - loss: 38.4077\n",
            "Epoch 77/100\n",
            "1/1 [==============================] - 0s 8ms/step - loss: 36.6413\n",
            "Epoch 78/100\n",
            "1/1 [==============================] - 0s 8ms/step - loss: 33.2844\n",
            "Epoch 79/100\n",
            "1/1 [==============================] - 0s 8ms/step - loss: 27.3738\n",
            "Epoch 80/100\n",
            "1/1 [==============================] - 0s 8ms/step - loss: 21.3705\n",
            "Epoch 81/100\n",
            "1/1 [==============================] - 0s 9ms/step - loss: 17.2807\n",
            "Epoch 82/100\n",
            "1/1 [==============================] - 0s 10ms/step - loss: 14.8666\n",
            "Epoch 83/100\n",
            "1/1 [==============================] - 0s 8ms/step - loss: 12.9257\n",
            "Epoch 84/100\n",
            "1/1 [==============================] - 0s 10ms/step - loss: 10.7151\n",
            "Epoch 85/100\n",
            "1/1 [==============================] - 0s 8ms/step - loss: 8.4108\n",
            "Epoch 86/100\n",
            "1/1 [==============================] - 0s 8ms/step - loss: 6.9329\n",
            "Epoch 87/100\n",
            "1/1 [==============================] - 0s 7ms/step - loss: 6.5331\n",
            "Epoch 88/100\n",
            "1/1 [==============================] - 0s 6ms/step - loss: 5.8471\n",
            "Epoch 89/100\n",
            "1/1 [==============================] - 0s 6ms/step - loss: 4.8474\n",
            "Epoch 90/100\n",
            "1/1 [==============================] - 0s 7ms/step - loss: 4.3606\n",
            "Epoch 91/100\n",
            "1/1 [==============================] - 0s 7ms/step - loss: 4.4591\n",
            "Epoch 92/100\n",
            "1/1 [==============================] - 0s 7ms/step - loss: 4.6783\n",
            "Epoch 93/100\n",
            "1/1 [==============================] - 0s 9ms/step - loss: 4.7093\n",
            "Epoch 94/100\n",
            "1/1 [==============================] - 0s 7ms/step - loss: 4.6008\n",
            "Epoch 95/100\n",
            "1/1 [==============================] - 0s 7ms/step - loss: 4.5463\n",
            "Epoch 96/100\n",
            "1/1 [==============================] - 0s 7ms/step - loss: 4.5751\n",
            "Epoch 97/100\n",
            "1/1 [==============================] - 0s 7ms/step - loss: 4.4987\n",
            "Epoch 98/100\n",
            "1/1 [==============================] - 0s 7ms/step - loss: 4.1907\n",
            "Epoch 99/100\n",
            "1/1 [==============================] - 0s 8ms/step - loss: 3.7464\n",
            "Epoch 100/100\n",
            "1/1 [==============================] - 0s 7ms/step - loss: 3.3127\n"
          ],
          "name": "stdout"
        }
      ]
    },
    {
      "cell_type": "code",
      "metadata": {
        "colab": {
          "base_uri": "https://localhost:8080/",
          "height": 282
        },
        "id": "jECHndLwLg9n",
        "outputId": "82bdfc53-e194-41b1-f135-c3f5b99de4a1"
      },
      "source": [
        "plt.plot(history.history['loss'])"
      ],
      "execution_count": 22,
      "outputs": [
        {
          "output_type": "execute_result",
          "data": {
            "text/plain": [
              "[<matplotlib.lines.Line2D at 0x7f858d0066d0>]"
            ]
          },
          "metadata": {
            "tags": []
          },
          "execution_count": 22
        },
        {
          "output_type": "display_data",
          "data": {
            "image/png": "[encoded data removed]",
            "text/plain": [
              "<Figure size 432x288 with 1 Axes>"
            ]
          },
          "metadata": {
            "tags": [],
            "needs_background": "light"
          }
        }
      ]
    },
    {
      "cell_type": "code",
      "metadata": {
        "id": "va69azLYN9Oo"
      },
      "source": [
        "#testing\n",
        "xtest=np.array([[80,85],[90,95],[100,105]])\n",
        "xtest=xtest.reshape(1,3,2)"
      ],
      "execution_count": 23,
      "outputs": []
    },
    {
      "cell_type": "code",
      "metadata": {
        "colab": {
          "base_uri": "https://localhost:8080/"
        },
        "id": "_xj1e6YgOeqy",
        "outputId": "ffc47e23-1a92-4683-a7d9-efbcc5f32ea4"
      },
      "source": [
        "ypred=model.predict(xtest)\n",
        "ypred"
      ],
      "execution_count": 24,
      "outputs": [
        {
          "output_type": "execute_result",
          "data": {
            "text/plain": [
              "array([[205.8628]], dtype=float32)"
            ]
          },
          "metadata": {
            "tags": []
          },
          "execution_count": 24
        }
      ]
    }
  ]
}