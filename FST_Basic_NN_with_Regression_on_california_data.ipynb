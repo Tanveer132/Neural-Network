{
  "nbformat": 4,
  "nbformat_minor": 0,
  "metadata": {
    "colab": {
      "name": "FST_Basic NN with Regression on california data.ipynb",
      "provenance": [],
      "collapsed_sections": [],
      "authorship_tag": "ABX9TyP36/F6vmw2byA0I66wBDmg",
      "include_colab_link": true
    },
    "kernelspec": {
      "name": "python3",
      "display_name": "Python 3"
    },
    "language_info": {
      "name": "python"
    }
  },
  "cells": [
    {
      "cell_type": "markdown",
      "metadata": {
        "id": "view-in-github",
        "colab_type": "text"
      },
      "source": [
        "<a href=\"https://colab.research.google.com/github/Tanveer132/Neural-Network/blob/main/FST_Basic_NN_with_Regression_on_california_data.ipynb\" target=\"_parent\"><img src=\"https://colab.research.google.com/assets/colab-badge.svg\" alt=\"Open In Colab\"/></a>"
      ]
    },
    {
      "cell_type": "code",
      "metadata": {
        "id": "F_4XZGsPvkAO"
      },
      "source": [
        "import pandas as pd\n",
        "import numpy as np\n",
        "import matplotlib.pyplot as plt\n",
        "import seaborn as  sns\n",
        "\n",
        "from sklearn.preprocessing import StandardScaler\n",
        "from sklearn.model_selection import train_test_split\n",
        "from sklearn.preprocessing import LabelEncoder\n",
        "from sklearn.metrics import accuracy_score,confusion_matrix,classification_report\n",
        "\n",
        "from keras.models import Sequential\n",
        "from keras.layers import Dense\n",
        "from keras.optimizers import SGD"
      ],
      "execution_count": 1,
      "outputs": []
    },
    {
      "cell_type": "code",
      "metadata": {
        "colab": {
          "base_uri": "https://localhost:8080/",
          "height": 206
        },
        "id": "0s-3Dzk2xCIp",
        "outputId": "8e51d052-3158-4cd9-8a9d-f7b0cdc427d3"
      },
      "source": [
        "train=pd.read_csv('/content/sample_data/california_housing_train.csv')\n",
        "train.head()"
      ],
      "execution_count": 2,
      "outputs": [
        {
          "output_type": "execute_result",
          "data": {
            "text/html": [
              "<div>\n",
              "<style scoped>\n",
              "    .dataframe tbody tr th:only-of-type {\n",
              "        vertical-align: middle;\n",
              "    }\n",
              "\n",
              "    .dataframe tbody tr th {\n",
              "        vertical-align: top;\n",
              "    }\n",
              "\n",
              "    .dataframe thead th {\n",
              "        text-align: right;\n",
              "    }\n",
              "</style>\n",
              "<table border=\"1\" class=\"dataframe\">\n",
              "  <thead>\n",
              "    <tr style=\"text-align: right;\">\n",
              "      <th></th>\n",
              "      <th>longitude</th>\n",
              "      <th>latitude</th>\n",
              "      <th>housing_median_age</th>\n",
              "      <th>total_rooms</th>\n",
              "      <th>total_bedrooms</th>\n",
              "      <th>population</th>\n",
              "      <th>households</th>\n",
              "      <th>median_income</th>\n",
              "      <th>median_house_value</th>\n",
              "    </tr>\n",
              "  </thead>\n",
              "  <tbody>\n",
              "    <tr>\n",
              "      <th>0</th>\n",
              "      <td>-114.31</td>\n",
              "      <td>34.19</td>\n",
              "      <td>15.0</td>\n",
              "      <td>5612.0</td>\n",
              "      <td>1283.0</td>\n",
              "      <td>1015.0</td>\n",
              "      <td>472.0</td>\n",
              "      <td>1.4936</td>\n",
              "      <td>66900.0</td>\n",
              "    </tr>\n",
              "    <tr>\n",
              "      <th>1</th>\n",
              "      <td>-114.47</td>\n",
              "      <td>34.40</td>\n",
              "      <td>19.0</td>\n",
              "      <td>7650.0</td>\n",
              "      <td>1901.0</td>\n",
              "      <td>1129.0</td>\n",
              "      <td>463.0</td>\n",
              "      <td>1.8200</td>\n",
              "      <td>80100.0</td>\n",
              "    </tr>\n",
              "    <tr>\n",
              "      <th>2</th>\n",
              "      <td>-114.56</td>\n",
              "      <td>33.69</td>\n",
              "      <td>17.0</td>\n",
              "      <td>720.0</td>\n",
              "      <td>174.0</td>\n",
              "      <td>333.0</td>\n",
              "      <td>117.0</td>\n",
              "      <td>1.6509</td>\n",
              "      <td>85700.0</td>\n",
              "    </tr>\n",
              "    <tr>\n",
              "      <th>3</th>\n",
              "      <td>-114.57</td>\n",
              "      <td>33.64</td>\n",
              "      <td>14.0</td>\n",
              "      <td>1501.0</td>\n",
              "      <td>337.0</td>\n",
              "      <td>515.0</td>\n",
              "      <td>226.0</td>\n",
              "      <td>3.1917</td>\n",
              "      <td>73400.0</td>\n",
              "    </tr>\n",
              "    <tr>\n",
              "      <th>4</th>\n",
              "      <td>-114.57</td>\n",
              "      <td>33.57</td>\n",
              "      <td>20.0</td>\n",
              "      <td>1454.0</td>\n",
              "      <td>326.0</td>\n",
              "      <td>624.0</td>\n",
              "      <td>262.0</td>\n",
              "      <td>1.9250</td>\n",
              "      <td>65500.0</td>\n",
              "    </tr>\n",
              "  </tbody>\n",
              "</table>\n",
              "</div>"
            ],
            "text/plain": [
              "   longitude  latitude  ...  median_income  median_house_value\n",
              "0    -114.31     34.19  ...         1.4936             66900.0\n",
              "1    -114.47     34.40  ...         1.8200             80100.0\n",
              "2    -114.56     33.69  ...         1.6509             85700.0\n",
              "3    -114.57     33.64  ...         3.1917             73400.0\n",
              "4    -114.57     33.57  ...         1.9250             65500.0\n",
              "\n",
              "[5 rows x 9 columns]"
            ]
          },
          "metadata": {
            "tags": []
          },
          "execution_count": 2
        }
      ]
    },
    {
      "cell_type": "code",
      "metadata": {
        "id": "psC90JNV0uff"
      },
      "source": [
        "xtrain=train.drop(columns='median_house_value')\n",
        "ytrain=train['median_house_value']\n"
      ],
      "execution_count": 3,
      "outputs": []
    },
    {
      "cell_type": "code",
      "metadata": {
        "colab": {
          "base_uri": "https://localhost:8080/",
          "height": 206
        },
        "id": "ENAox8oE0Cht",
        "outputId": "8acaf798-60ed-4d9c-d185-07b7dc0e9d0a"
      },
      "source": [
        "test=pd.read_csv('/content/sample_data/california_housing_test.csv')\n",
        "test.head()"
      ],
      "execution_count": 4,
      "outputs": [
        {
          "output_type": "execute_result",
          "data": {
            "text/html": [
              "<div>\n",
              "<style scoped>\n",
              "    .dataframe tbody tr th:only-of-type {\n",
              "        vertical-align: middle;\n",
              "    }\n",
              "\n",
              "    .dataframe tbody tr th {\n",
              "        vertical-align: top;\n",
              "    }\n",
              "\n",
              "    .dataframe thead th {\n",
              "        text-align: right;\n",
              "    }\n",
              "</style>\n",
              "<table border=\"1\" class=\"dataframe\">\n",
              "  <thead>\n",
              "    <tr style=\"text-align: right;\">\n",
              "      <th></th>\n",
              "      <th>longitude</th>\n",
              "      <th>latitude</th>\n",
              "      <th>housing_median_age</th>\n",
              "      <th>total_rooms</th>\n",
              "      <th>total_bedrooms</th>\n",
              "      <th>population</th>\n",
              "      <th>households</th>\n",
              "      <th>median_income</th>\n",
              "      <th>median_house_value</th>\n",
              "    </tr>\n",
              "  </thead>\n",
              "  <tbody>\n",
              "    <tr>\n",
              "      <th>0</th>\n",
              "      <td>-122.05</td>\n",
              "      <td>37.37</td>\n",
              "      <td>27.0</td>\n",
              "      <td>3885.0</td>\n",
              "      <td>661.0</td>\n",
              "      <td>1537.0</td>\n",
              "      <td>606.0</td>\n",
              "      <td>6.6085</td>\n",
              "      <td>344700.0</td>\n",
              "    </tr>\n",
              "    <tr>\n",
              "      <th>1</th>\n",
              "      <td>-118.30</td>\n",
              "      <td>34.26</td>\n",
              "      <td>43.0</td>\n",
              "      <td>1510.0</td>\n",
              "      <td>310.0</td>\n",
              "      <td>809.0</td>\n",
              "      <td>277.0</td>\n",
              "      <td>3.5990</td>\n",
              "      <td>176500.0</td>\n",
              "    </tr>\n",
              "    <tr>\n",
              "      <th>2</th>\n",
              "      <td>-117.81</td>\n",
              "      <td>33.78</td>\n",
              "      <td>27.0</td>\n",
              "      <td>3589.0</td>\n",
              "      <td>507.0</td>\n",
              "      <td>1484.0</td>\n",
              "      <td>495.0</td>\n",
              "      <td>5.7934</td>\n",
              "      <td>270500.0</td>\n",
              "    </tr>\n",
              "    <tr>\n",
              "      <th>3</th>\n",
              "      <td>-118.36</td>\n",
              "      <td>33.82</td>\n",
              "      <td>28.0</td>\n",
              "      <td>67.0</td>\n",
              "      <td>15.0</td>\n",
              "      <td>49.0</td>\n",
              "      <td>11.0</td>\n",
              "      <td>6.1359</td>\n",
              "      <td>330000.0</td>\n",
              "    </tr>\n",
              "    <tr>\n",
              "      <th>4</th>\n",
              "      <td>-119.67</td>\n",
              "      <td>36.33</td>\n",
              "      <td>19.0</td>\n",
              "      <td>1241.0</td>\n",
              "      <td>244.0</td>\n",
              "      <td>850.0</td>\n",
              "      <td>237.0</td>\n",
              "      <td>2.9375</td>\n",
              "      <td>81700.0</td>\n",
              "    </tr>\n",
              "  </tbody>\n",
              "</table>\n",
              "</div>"
            ],
            "text/plain": [
              "   longitude  latitude  ...  median_income  median_house_value\n",
              "0    -122.05     37.37  ...         6.6085            344700.0\n",
              "1    -118.30     34.26  ...         3.5990            176500.0\n",
              "2    -117.81     33.78  ...         5.7934            270500.0\n",
              "3    -118.36     33.82  ...         6.1359            330000.0\n",
              "4    -119.67     36.33  ...         2.9375             81700.0\n",
              "\n",
              "[5 rows x 9 columns]"
            ]
          },
          "metadata": {
            "tags": []
          },
          "execution_count": 4
        }
      ]
    },
    {
      "cell_type": "code",
      "metadata": {
        "id": "rAyjyroD00vF"
      },
      "source": [
        "xtest=test.drop(columns='median_house_value')\n",
        "ytest=test['median_house_value']"
      ],
      "execution_count": 5,
      "outputs": []
    },
    {
      "cell_type": "code",
      "metadata": {
        "id": "WZqIIwcy0Wve"
      },
      "source": [
        "scaler=StandardScaler()\n",
        "sc_train=scaler.fit_transform(xtrain)\n",
        "sc_test=scaler.fit_transform(xtest)\n"
      ],
      "execution_count": 6,
      "outputs": []
    },
    {
      "cell_type": "markdown",
      "metadata": {
        "id": "zzZ8OMLn9NRh"
      },
      "source": [
        "    Regression Loss Functions\n",
        "        Mean Squared Error Loss\n",
        "        Mean Squared Logarithmic Error Loss\n",
        "        Mean Absolute Error Loss\n",
        "    Binary Classification Loss Functions\n",
        "        Binary Cross-Entropy\n",
        "        Hinge Loss\n",
        "        Squared Hinge Loss\n",
        "    Multi-Class Classification Loss Functions\n",
        "        Multi-Class Cross-Entropy Loss\n",
        "        Sparse Multiclass Cross-Entropy Loss\n",
        "        Kullback Leibler Divergence Loss\n"
      ]
    },
    {
      "cell_type": "code",
      "metadata": {
        "colab": {
          "base_uri": "https://localhost:8080/"
        },
        "id": "5isxq5izyi16",
        "outputId": "a299f9ab-e256-4ce6-d034-fa5e6d587769"
      },
      "source": [
        "\n",
        "model=Sequential()\n",
        "model.add(Dense(25,input_dim=8,activation=\"relu\"))\n",
        "model.add(Dense(10,activation=\"relu\"))\n",
        "model.add(Dense(1,activation=\"linear\"))\n",
        "\n",
        "#Those two compilation used in case of regression in NN\n",
        "#model.compile(loss=\"mean_absolute_error\",optimizer=SGD(momentum=0.6),metrics=[\"mse\"])\n",
        "model.compile(loss=\"mean_squared_logarithmic_error\",optimizer=SGD(momentum=0.6),metrics=[\"mse\"])\n",
        "model.summary()"
      ],
      "execution_count": 7,
      "outputs": [
        {
          "output_type": "stream",
          "text": [
            "Model: \"sequential\"\n",
            "_________________________________________________________________\n",
            "Layer (type)                 Output Shape              Param #   \n",
            "=================================================================\n",
            "dense (Dense)                (None, 25)                225       \n",
            "_________________________________________________________________\n",
            "dense_1 (Dense)              (None, 10)                260       \n",
            "_________________________________________________________________\n",
            "dense_2 (Dense)              (None, 1)                 11        \n",
            "=================================================================\n",
            "Total params: 496\n",
            "Trainable params: 496\n",
            "Non-trainable params: 0\n",
            "_________________________________________________________________\n"
          ],
          "name": "stdout"
        }
      ]
    },
    {
      "cell_type": "code",
      "metadata": {
        "colab": {
          "base_uri": "https://localhost:8080/"
        },
        "id": "Ciw4LPbzzDAM",
        "outputId": "405f93f4-c044-4722-b353-bd6656c3bd7b"
      },
      "source": [
        "# epochs 50----->each batch will pass 50 times\n",
        "#batch 10\n",
        "history=model.fit(sc_train,ytrain,epochs=100,batch_size=50)"
      ],
      "execution_count": 8,
      "outputs": [
        {
          "output_type": "stream",
          "text": [
            "Epoch 1/100\n",
            "340/340 [==============================] - 1s 1ms/step - loss: 52.1658 - mse: 55917192777.5718\n",
            "Epoch 2/100\n",
            "340/340 [==============================] - 0s 1ms/step - loss: 17.4749 - mse: 54789790903.1789\n",
            "Epoch 3/100\n",
            "340/340 [==============================] - 0s 1ms/step - loss: 12.1829 - mse: 54494106705.0792\n",
            "Epoch 4/100\n",
            "340/340 [==============================] - 0s 988us/step - loss: 9.4768 - mse: 52508745211.4956\n",
            "Epoch 5/100\n",
            "340/340 [==============================] - 0s 1ms/step - loss: 7.7906 - mse: 51668068321.9707\n",
            "Epoch 6/100\n",
            "340/340 [==============================] - 0s 981us/step - loss: 6.6181 - mse: 50559643299.6598\n",
            "Epoch 7/100\n",
            "340/340 [==============================] - 0s 1ms/step - loss: 5.7463 - mse: 49974612136.1642\n",
            "Epoch 8/100\n",
            "340/340 [==============================] - 0s 1ms/step - loss: 5.0540 - mse: 48233817084.9971\n",
            "Epoch 9/100\n",
            "340/340 [==============================] - 0s 1ms/step - loss: 4.4596 - mse: 46508980193.9707\n",
            "Epoch 10/100\n",
            "340/340 [==============================] - 0s 1ms/step - loss: 4.0318 - mse: 46171218268.3402\n",
            "Epoch 11/100\n",
            "340/340 [==============================] - 0s 1ms/step - loss: 3.6708 - mse: 45437926883.4721\n",
            "Epoch 12/100\n",
            "340/340 [==============================] - 0s 1ms/step - loss: 3.3484 - mse: 44053348808.4457\n",
            "Epoch 13/100\n",
            "340/340 [==============================] - 0s 1ms/step - loss: 3.0949 - mse: 43684547923.3314\n",
            "Epoch 14/100\n",
            "340/340 [==============================] - 0s 1ms/step - loss: 2.8238 - mse: 42162907430.2874\n",
            "Epoch 15/100\n",
            "340/340 [==============================] - 0s 1ms/step - loss: 2.6189 - mse: 41274027335.3196\n",
            "Epoch 16/100\n",
            "340/340 [==============================] - 0s 1ms/step - loss: 2.4736 - mse: 41336081675.2610\n",
            "Epoch 17/100\n",
            "340/340 [==============================] - 0s 995us/step - loss: 2.3027 - mse: 40031961574.4751\n",
            "Epoch 18/100\n",
            "340/340 [==============================] - 0s 987us/step - loss: 2.1374 - mse: 39162829430.6158\n",
            "Epoch 19/100\n",
            "340/340 [==============================] - 0s 1ms/step - loss: 2.0216 - mse: 38603670561.0323\n",
            "Epoch 20/100\n",
            "340/340 [==============================] - 0s 1ms/step - loss: 1.8985 - mse: 37746830086.7566\n",
            "Epoch 21/100\n",
            "340/340 [==============================] - 0s 1ms/step - loss: 1.7898 - mse: 36871233217.6891\n",
            "Epoch 22/100\n",
            "340/340 [==============================] - 0s 1ms/step - loss: 1.6889 - mse: 36225658867.9883\n",
            "Epoch 23/100\n",
            "340/340 [==============================] - 0s 993us/step - loss: 1.6045 - mse: 35685848427.3548\n",
            "Epoch 24/100\n",
            "340/340 [==============================] - 0s 1ms/step - loss: 1.5242 - mse: 35116929054.0293\n",
            "Epoch 25/100\n",
            "340/340 [==============================] - 0s 1ms/step - loss: 1.4446 - mse: 34155404387.0968\n",
            "Epoch 26/100\n",
            "340/340 [==============================] - 0s 1ms/step - loss: 1.3702 - mse: 33219878485.5836\n",
            "Epoch 27/100\n",
            "340/340 [==============================] - 0s 1ms/step - loss: 1.2995 - mse: 32534069254.0059\n",
            "Epoch 28/100\n",
            "340/340 [==============================] - 0s 983us/step - loss: 1.2597 - mse: 32759225106.7683\n",
            "Epoch 29/100\n",
            "340/340 [==============================] - 0s 999us/step - loss: 1.2056 - mse: 32022860094.3109\n",
            "Epoch 30/100\n",
            "340/340 [==============================] - 0s 1ms/step - loss: 1.1389 - mse: 31061864496.0469\n",
            "Epoch 31/100\n",
            "340/340 [==============================] - 0s 1ms/step - loss: 1.0880 - mse: 30147830258.4868\n",
            "Epoch 32/100\n",
            "340/340 [==============================] - 0s 1ms/step - loss: 1.0431 - mse: 29692421177.0557\n",
            "Epoch 33/100\n",
            "340/340 [==============================] - 0s 1ms/step - loss: 1.0272 - mse: 30260713832.3519\n",
            "Epoch 34/100\n",
            "340/340 [==============================] - 0s 1ms/step - loss: 0.9665 - mse: 28777502089.3842\n",
            "Epoch 35/100\n",
            "340/340 [==============================] - 0s 1ms/step - loss: 0.9381 - mse: 28450714302.6862\n",
            "Epoch 36/100\n",
            "340/340 [==============================] - 0s 1ms/step - loss: 0.9053 - mse: 28324732705.7830\n",
            "Epoch 37/100\n",
            "340/340 [==============================] - 0s 1ms/step - loss: 0.8709 - mse: 27601849280.9384\n",
            "Epoch 38/100\n",
            "340/340 [==============================] - 0s 1ms/step - loss: 0.8473 - mse: 27439125939.4252\n",
            "Epoch 39/100\n",
            "340/340 [==============================] - 0s 1ms/step - loss: 0.8221 - mse: 27319474266.0880\n",
            "Epoch 40/100\n",
            "340/340 [==============================] - 0s 1ms/step - loss: 0.7854 - mse: 26134571908.8798\n",
            "Epoch 41/100\n",
            "340/340 [==============================] - 0s 1ms/step - loss: 0.7601 - mse: 25895972425.5718\n",
            "Epoch 42/100\n",
            "340/340 [==============================] - 0s 1ms/step - loss: 0.7522 - mse: 26227786250.5103\n",
            "Epoch 43/100\n",
            "340/340 [==============================] - 0s 1ms/step - loss: 0.7210 - mse: 25511765379.3783\n",
            "Epoch 44/100\n",
            "340/340 [==============================] - 0s 1ms/step - loss: 0.7061 - mse: 25469165327.7654\n",
            "Epoch 45/100\n",
            "340/340 [==============================] - 0s 977us/step - loss: 0.6714 - mse: 24456173561.9941\n",
            "Epoch 46/100\n",
            "340/340 [==============================] - 0s 1ms/step - loss: 0.6542 - mse: 23800432826.1818\n",
            "Epoch 47/100\n",
            "340/340 [==============================] - 0s 1ms/step - loss: 0.6396 - mse: 23892104038.8504\n",
            "Epoch 48/100\n",
            "340/340 [==============================] - 0s 1ms/step - loss: 0.6311 - mse: 23945537908.3636\n",
            "Epoch 49/100\n",
            "340/340 [==============================] - 0s 1ms/step - loss: 0.6093 - mse: 23270399189.2082\n",
            "Epoch 50/100\n",
            "340/340 [==============================] - 0s 1ms/step - loss: 0.6093 - mse: 23715478549.0205\n",
            "Epoch 51/100\n",
            "340/340 [==============================] - 0s 1ms/step - loss: 0.5864 - mse: 22954180037.4428\n",
            "Epoch 52/100\n",
            "340/340 [==============================] - 0s 1ms/step - loss: 0.5717 - mse: 22853368300.4809\n",
            "Epoch 53/100\n",
            "340/340 [==============================] - 0s 1ms/step - loss: 0.5575 - mse: 22278311851.9179\n",
            "Epoch 54/100\n",
            "340/340 [==============================] - 0s 1ms/step - loss: 0.5429 - mse: 21879192284.7155\n",
            "Epoch 55/100\n",
            "340/340 [==============================] - 0s 994us/step - loss: 0.5368 - mse: 22016790473.9472\n",
            "Epoch 56/100\n",
            "340/340 [==============================] - 0s 1ms/step - loss: 0.5236 - mse: 21877387306.0411\n",
            "Epoch 57/100\n",
            "340/340 [==============================] - 0s 1ms/step - loss: 0.5168 - mse: 21717990883.4721\n",
            "Epoch 58/100\n",
            "340/340 [==============================] - 0s 1ms/step - loss: 0.4995 - mse: 21115867790.6393\n",
            "Epoch 59/100\n",
            "340/340 [==============================] - 0s 1ms/step - loss: 0.4854 - mse: 20420890666.0411\n",
            "Epoch 60/100\n",
            "340/340 [==============================] - 0s 1ms/step - loss: 0.4655 - mse: 19733730171.8710\n",
            "Epoch 61/100\n",
            "340/340 [==============================] - 0s 980us/step - loss: 0.4797 - mse: 20628026371.0029\n",
            "Epoch 62/100\n",
            "340/340 [==============================] - 0s 1ms/step - loss: 0.4659 - mse: 20288836959.3431\n",
            "Epoch 63/100\n",
            "340/340 [==============================] - 0s 1ms/step - loss: 0.4575 - mse: 20086972860.4340\n",
            "Epoch 64/100\n",
            "340/340 [==============================] - 0s 1ms/step - loss: 0.4534 - mse: 20259452219.3079\n",
            "Epoch 65/100\n",
            "340/340 [==============================] - 0s 1ms/step - loss: 0.4432 - mse: 19726399076.5982\n",
            "Epoch 66/100\n",
            "340/340 [==============================] - 0s 1ms/step - loss: 0.4345 - mse: 19494185662.6862\n",
            "Epoch 67/100\n",
            "340/340 [==============================] - 0s 1000us/step - loss: 0.4229 - mse: 19056123303.4135\n",
            "Epoch 68/100\n",
            "340/340 [==============================] - 0s 1ms/step - loss: 0.4186 - mse: 18840455104.9384\n",
            "Epoch 69/100\n",
            "340/340 [==============================] - 0s 1ms/step - loss: 0.4169 - mse: 19117805291.7302\n",
            "Epoch 70/100\n",
            "340/340 [==============================] - 0s 1ms/step - loss: 0.4024 - mse: 18468958502.2874\n",
            "Epoch 71/100\n",
            "340/340 [==============================] - 0s 1ms/step - loss: 0.4019 - mse: 18650473604.1290\n",
            "Epoch 72/100\n",
            "340/340 [==============================] - 0s 1ms/step - loss: 0.3934 - mse: 18243026667.7302\n",
            "Epoch 73/100\n",
            "340/340 [==============================] - 0s 1ms/step - loss: 0.3877 - mse: 18154487033.2434\n",
            "Epoch 74/100\n",
            "340/340 [==============================] - 0s 1ms/step - loss: 0.3840 - mse: 17844936301.6070\n",
            "Epoch 75/100\n",
            "340/340 [==============================] - 0s 1ms/step - loss: 0.3769 - mse: 17677705858.6276\n",
            "Epoch 76/100\n",
            "340/340 [==============================] - 0s 1ms/step - loss: 0.3742 - mse: 17593119710.9677\n",
            "Epoch 77/100\n",
            "340/340 [==============================] - 0s 1ms/step - loss: 0.3664 - mse: 17178810380.0117\n",
            "Epoch 78/100\n",
            "340/340 [==============================] - 0s 1ms/step - loss: 0.3664 - mse: 17514418034.8622\n",
            "Epoch 79/100\n",
            "340/340 [==============================] - 0s 1ms/step - loss: 0.3631 - mse: 17446976992.4692\n",
            "Epoch 80/100\n",
            "340/340 [==============================] - 0s 1ms/step - loss: 0.3529 - mse: 16952432646.0059\n",
            "Epoch 81/100\n",
            "340/340 [==============================] - 0s 1ms/step - loss: 0.3508 - mse: 16809528163.8475\n",
            "Epoch 82/100\n",
            "340/340 [==============================] - 0s 1ms/step - loss: 0.3447 - mse: 16463690049.3138\n",
            "Epoch 83/100\n",
            "340/340 [==============================] - 0s 967us/step - loss: 0.3423 - mse: 16569985054.0293\n",
            "Epoch 84/100\n",
            "340/340 [==============================] - 0s 1ms/step - loss: 0.3374 - mse: 16396191581.8416\n",
            "Epoch 85/100\n",
            "340/340 [==============================] - 0s 1ms/step - loss: 0.3378 - mse: 16358671170.8152\n",
            "Epoch 86/100\n",
            "340/340 [==============================] - 0s 1ms/step - loss: 0.3315 - mse: 16071119430.5689\n",
            "Epoch 87/100\n",
            "340/340 [==============================] - 0s 1ms/step - loss: 0.3343 - mse: 16318811577.4311\n",
            "Epoch 88/100\n",
            "340/340 [==============================] - 0s 1ms/step - loss: 0.3235 - mse: 15781415186.7683\n",
            "Epoch 89/100\n",
            "340/340 [==============================] - 0s 1ms/step - loss: 0.3181 - mse: 15439093156.4106\n",
            "Epoch 90/100\n",
            "340/340 [==============================] - 0s 1ms/step - loss: 0.3182 - mse: 15560524355.5660\n",
            "Epoch 91/100\n",
            "340/340 [==============================] - 0s 1ms/step - loss: 0.3174 - mse: 15564659363.6598\n",
            "Epoch 92/100\n",
            "340/340 [==============================] - 0s 1ms/step - loss: 0.3140 - mse: 15363217245.8416\n",
            "Epoch 93/100\n",
            "340/340 [==============================] - 0s 1ms/step - loss: 0.3114 - mse: 15208447081.1026\n",
            "Epoch 94/100\n",
            "340/340 [==============================] - 0s 1ms/step - loss: 0.3091 - mse: 15305510362.4633\n",
            "Epoch 95/100\n",
            "340/340 [==============================] - 0s 1ms/step - loss: 0.3054 - mse: 15212533489.7361\n",
            "Epoch 96/100\n",
            "340/340 [==============================] - 0s 1ms/step - loss: 0.3113 - mse: 15591208128.1877\n",
            "Epoch 97/100\n",
            "340/340 [==============================] - 0s 1ms/step - loss: 0.3020 - mse: 15094809885.2786\n",
            "Epoch 98/100\n",
            "340/340 [==============================] - 0s 1ms/step - loss: 0.3004 - mse: 14878713177.3372\n",
            "Epoch 99/100\n",
            "340/340 [==============================] - 0s 1ms/step - loss: 0.2967 - mse: 14695085671.6012\n",
            "Epoch 100/100\n",
            "340/340 [==============================] - 0s 1ms/step - loss: 0.2985 - mse: 14830602981.7243\n"
          ],
          "name": "stdout"
        }
      ]
    },
    {
      "cell_type": "code",
      "metadata": {
        "colab": {
          "base_uri": "https://localhost:8080/",
          "height": 282
        },
        "id": "cGofBcnn1ByR",
        "outputId": "4f21a28e-a1f2-48b1-8e2a-e41720f6dce1"
      },
      "source": [
        "\n",
        "#plot epoch Vs Loss \n",
        "plt.plot(range(1,101),history.history[\"loss\"])"
      ],
      "execution_count": 9,
      "outputs": [
        {
          "output_type": "execute_result",
          "data": {
            "text/plain": [
              "[<matplotlib.lines.Line2D at 0x7f658b412490>]"
            ]
          },
          "metadata": {
            "tags": []
          },
          "execution_count": 9
        },
        {
          "output_type": "display_data",
          "data": {
            "image/png": "[encoded data removed]",
            "text/plain": [
              "<Figure size 432x288 with 1 Axes>"
            ]
          },
          "metadata": {
            "tags": [],
            "needs_background": "light"
          }
        }
      ]
    },
    {
      "cell_type": "code",
      "metadata": {
        "colab": {
          "base_uri": "https://localhost:8080/",
          "height": 293
        },
        "id": "MFMs6ijqb-sS",
        "outputId": "0c68eaf3-6836-4194-c5f6-e44c3edf5f48"
      },
      "source": [
        "plt.plot(history.history[\"mse\"])"
      ],
      "execution_count": 14,
      "outputs": [
        {
          "output_type": "execute_result",
          "data": {
            "text/plain": [
              "[<matplotlib.lines.Line2D at 0x7f658a60f5d0>]"
            ]
          },
          "metadata": {
            "tags": []
          },
          "execution_count": 14
        },
        {
          "output_type": "display_data",
          "data": {
            "image/png": "[encoded data removed]",
            "text/plain": [
              "<Figure size 432x288 with 1 Axes>"
            ]
          },
          "metadata": {
            "tags": [],
            "needs_background": "light"
          }
        }
      ]
    },
    {
      "cell_type": "code",
      "metadata": {
        "id": "Hxe1c28e4SgA"
      },
      "source": [
        "ypred=model.predict(sc_test)\n",
        "ypred=ypred.flatten()"
      ],
      "execution_count": 15,
      "outputs": []
    },
    {
      "cell_type": "code",
      "metadata": {
        "colab": {
          "base_uri": "https://localhost:8080/",
          "height": 424
        },
        "id": "iI6Y0uP85mvU",
        "outputId": "72362208-2041-4708-e8a5-fbc07f4d95b6"
      },
      "source": [
        "pd.DataFrame({\"Actual\":ytest,\"Predicted\":ypred})"
      ],
      "execution_count": 16,
      "outputs": [
        {
          "output_type": "execute_result",
          "data": {
            "text/html": [
              "<div>\n",
              "<style scoped>\n",
              "    .dataframe tbody tr th:only-of-type {\n",
              "        vertical-align: middle;\n",
              "    }\n",
              "\n",
              "    .dataframe tbody tr th {\n",
              "        vertical-align: top;\n",
              "    }\n",
              "\n",
              "    .dataframe thead th {\n",
              "        text-align: right;\n",
              "    }\n",
              "</style>\n",
              "<table border=\"1\" class=\"dataframe\">\n",
              "  <thead>\n",
              "    <tr style=\"text-align: right;\">\n",
              "      <th></th>\n",
              "      <th>Actual</th>\n",
              "      <th>Predicted</th>\n",
              "    </tr>\n",
              "  </thead>\n",
              "  <tbody>\n",
              "    <tr>\n",
              "      <th>0</th>\n",
              "      <td>344700.0</td>\n",
              "      <td>161069.843750</td>\n",
              "    </tr>\n",
              "    <tr>\n",
              "      <th>1</th>\n",
              "      <td>176500.0</td>\n",
              "      <td>145529.828125</td>\n",
              "    </tr>\n",
              "    <tr>\n",
              "      <th>2</th>\n",
              "      <td>270500.0</td>\n",
              "      <td>168185.953125</td>\n",
              "    </tr>\n",
              "    <tr>\n",
              "      <th>3</th>\n",
              "      <td>330000.0</td>\n",
              "      <td>185777.296875</td>\n",
              "    </tr>\n",
              "    <tr>\n",
              "      <th>4</th>\n",
              "      <td>81700.0</td>\n",
              "      <td>118165.453125</td>\n",
              "    </tr>\n",
              "    <tr>\n",
              "      <th>...</th>\n",
              "      <td>...</td>\n",
              "      <td>...</td>\n",
              "    </tr>\n",
              "    <tr>\n",
              "      <th>2995</th>\n",
              "      <td>225000.0</td>\n",
              "      <td>102078.265625</td>\n",
              "    </tr>\n",
              "    <tr>\n",
              "      <th>2996</th>\n",
              "      <td>237200.0</td>\n",
              "      <td>138825.125000</td>\n",
              "    </tr>\n",
              "    <tr>\n",
              "      <th>2997</th>\n",
              "      <td>62000.0</td>\n",
              "      <td>108748.687500</td>\n",
              "    </tr>\n",
              "    <tr>\n",
              "      <th>2998</th>\n",
              "      <td>162500.0</td>\n",
              "      <td>159678.531250</td>\n",
              "    </tr>\n",
              "    <tr>\n",
              "      <th>2999</th>\n",
              "      <td>500001.0</td>\n",
              "      <td>208631.250000</td>\n",
              "    </tr>\n",
              "  </tbody>\n",
              "</table>\n",
              "<p>3000 rows × 2 columns</p>\n",
              "</div>"
            ],
            "text/plain": [
              "        Actual      Predicted\n",
              "0     344700.0  161069.843750\n",
              "1     176500.0  145529.828125\n",
              "2     270500.0  168185.953125\n",
              "3     330000.0  185777.296875\n",
              "4      81700.0  118165.453125\n",
              "...        ...            ...\n",
              "2995  225000.0  102078.265625\n",
              "2996  237200.0  138825.125000\n",
              "2997   62000.0  108748.687500\n",
              "2998  162500.0  159678.531250\n",
              "2999  500001.0  208631.250000\n",
              "\n",
              "[3000 rows x 2 columns]"
            ]
          },
          "metadata": {
            "tags": []
          },
          "execution_count": 16
        }
      ]
    },
    {
      "cell_type": "code",
      "metadata": {
        "id": "waqyI3w-cGX6"
      },
      "source": [
        ""
      ],
      "execution_count": null,
      "outputs": []
    }
  ]
}