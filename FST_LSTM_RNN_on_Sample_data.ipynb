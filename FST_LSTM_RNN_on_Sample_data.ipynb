{
  "nbformat": 4,
  "nbformat_minor": 0,
  "metadata": {
    "colab": {
      "name": "FST_LSTM RNN on Sample data.ipynb",
      "provenance": [],
      "collapsed_sections": [],
      "authorship_tag": "ABX9TyM1lqs5dWKxQRAweIdfRGz/",
      "include_colab_link": true
    },
    "kernelspec": {
      "name": "python3",
      "display_name": "Python 3"
    },
    "language_info": {
      "name": "python"
    }
  },
  "cells": [
    {
      "cell_type": "markdown",
      "metadata": {
        "id": "view-in-github",
        "colab_type": "text"
      },
      "source": [
        "<a href=\"https://colab.research.google.com/github/Tanveer132/Neural-Network/blob/main/FST_LSTM_RNN_on_Sample_data.ipynb\" target=\"_parent\"><img src=\"https://colab.research.google.com/assets/colab-badge.svg\" alt=\"Open In Colab\"/></a>"
      ]
    },
    {
      "cell_type": "markdown",
      "metadata": {
        "id": "4xKI8rc_106R"
      },
      "source": [
        "Create sample data"
      ]
    },
    {
      "cell_type": "code",
      "metadata": {
        "id": "ccOl0GwUrNSV"
      },
      "source": [
        "import pandas as pd\n",
        "import numpy as np\n",
        "import matplotlib.pyplot as plt"
      ],
      "execution_count": 1,
      "outputs": []
    },
    {
      "cell_type": "code",
      "metadata": {
        "id": "mkh4vkeLsogr"
      },
      "source": [
        "data=np.array([1,2,3,4,5,6,7,8,9])"
      ],
      "execution_count": 2,
      "outputs": []
    },
    {
      "cell_type": "code",
      "metadata": {
        "id": "CLjyNBQDs9PM"
      },
      "source": [
        "#create features and target data\n",
        "#features= 3\n",
        "n_features=3\n",
        "x=[]\n",
        "y=[]\n",
        "for i in range(n_features,len(data)):\n",
        "  x.append(data[i-n_features:i])\n",
        "  y.append(data[i])\n",
        "x,y=np.array(x),np.array(y)"
      ],
      "execution_count": 3,
      "outputs": []
    },
    {
      "cell_type": "code",
      "metadata": {
        "colab": {
          "base_uri": "https://localhost:8080/"
        },
        "id": "Yafd4hgFuDVn",
        "outputId": "84f04780-b7ee-4e1b-e30f-4dea9538f70b"
      },
      "source": [
        "x.shape,y.shape"
      ],
      "execution_count": 4,
      "outputs": [
        {
          "output_type": "execute_result",
          "data": {
            "text/plain": [
              "((6, 3), (6,))"
            ]
          },
          "metadata": {
            "tags": []
          },
          "execution_count": 4
        }
      ]
    },
    {
      "cell_type": "code",
      "metadata": {
        "colab": {
          "base_uri": "https://localhost:8080/"
        },
        "id": "perLFJqDub78",
        "outputId": "7e833d83-de47-4f87-9a61-45964ec550f6"
      },
      "source": [
        "#reshape x as [row,n_features,1]\n",
        "x=x.reshape(x.shape[0],x.shape[1],1)\n",
        "x.shape"
      ],
      "execution_count": 5,
      "outputs": [
        {
          "output_type": "execute_result",
          "data": {
            "text/plain": [
              "(6, 3, 1)"
            ]
          },
          "metadata": {
            "tags": []
          },
          "execution_count": 5
        }
      ]
    },
    {
      "cell_type": "markdown",
      "metadata": {
        "id": "aoyq1ZeV15Xz"
      },
      "source": [
        "Build model"
      ]
    },
    {
      "cell_type": "code",
      "metadata": {
        "id": "qOwJGzr2uxJs"
      },
      "source": [
        "from keras.layers import LSTM\n",
        "from keras.layers import Dense\n",
        "from keras import Sequential"
      ],
      "execution_count": 6,
      "outputs": []
    },
    {
      "cell_type": "code",
      "metadata": {
        "colab": {
          "base_uri": "https://localhost:8080/"
        },
        "id": "oIlixV2AvuCG",
        "outputId": "1d726530-7590-42fa-ba28-5f115711bfea"
      },
      "source": [
        "#build model\n",
        "model=Sequential()\n",
        "model.add(LSTM(50,activation='relu',input_shape=(n_features,1)))\n",
        "model.add(Dense(1))\n",
        "model.compile(loss='mean_squared_error',optimizer='adam')\n",
        "\n",
        "model.summary()"
      ],
      "execution_count": 7,
      "outputs": [
        {
          "output_type": "stream",
          "text": [
            "Model: \"sequential\"\n",
            "_________________________________________________________________\n",
            "Layer (type)                 Output Shape              Param #   \n",
            "=================================================================\n",
            "lstm (LSTM)                  (None, 50)                10400     \n",
            "_________________________________________________________________\n",
            "dense (Dense)                (None, 1)                 51        \n",
            "=================================================================\n",
            "Total params: 10,451\n",
            "Trainable params: 10,451\n",
            "Non-trainable params: 0\n",
            "_________________________________________________________________\n"
          ],
          "name": "stdout"
        }
      ]
    },
    {
      "cell_type": "markdown",
      "metadata": {
        "id": "K56tmooc19dd"
      },
      "source": [
        "Fit model"
      ]
    },
    {
      "cell_type": "code",
      "metadata": {
        "id": "s9ZcL3jvxyms"
      },
      "source": [
        "#fit model\n",
        "history=model.fit(x,y,epochs=100,batch_size=1,verbose=0)"
      ],
      "execution_count": 12,
      "outputs": []
    },
    {
      "cell_type": "code",
      "metadata": {
        "colab": {
          "base_uri": "https://localhost:8080/",
          "height": 282
        },
        "id": "78Dg-98NyR_X",
        "outputId": "f88c4a5f-f190-44fc-9fc2-0e2ef5eff252"
      },
      "source": [
        "plt.plot(history.history['loss'])"
      ],
      "execution_count": 13,
      "outputs": [
        {
          "output_type": "execute_result",
          "data": {
            "text/plain": [
              "[<matplotlib.lines.Line2D at 0x7f221cc4b450>]"
            ]
          },
          "metadata": {
            "tags": []
          },
          "execution_count": 13
        },
        {
          "output_type": "display_data",
          "data": {
            "image/png": "[encoded data removed]",
            "text/plain": [
              "<Figure size 432x288 with 1 Axes>"
            ]
          },
          "metadata": {
            "tags": [],
            "needs_background": "light"
          }
        }
      ]
    },
    {
      "cell_type": "code",
      "metadata": {
        "colab": {
          "base_uri": "https://localhost:8080/"
        },
        "id": "wBur7x4zypHL",
        "outputId": "18a9d663-9fbe-4b3e-bdf1-99cdbbbf921d"
      },
      "source": [
        "test=np.array([7,8,9])\n",
        "test=test.reshape(1,n_features,1)\n",
        "test.shape"
      ],
      "execution_count": 14,
      "outputs": [
        {
          "output_type": "execute_result",
          "data": {
            "text/plain": [
              "(1, 3, 1)"
            ]
          },
          "metadata": {
            "tags": []
          },
          "execution_count": 14
        }
      ]
    },
    {
      "cell_type": "code",
      "metadata": {
        "colab": {
          "base_uri": "https://localhost:8080/"
        },
        "id": "GRCoRVnazJte",
        "outputId": "371d0464-21e1-4153-d93f-3a5816a86d25"
      },
      "source": [
        "output=model.predict(test)\n",
        "output"
      ],
      "execution_count": 15,
      "outputs": [
        {
          "output_type": "execute_result",
          "data": {
            "text/plain": [
              "array([[9.671883]], dtype=float32)"
            ]
          },
          "metadata": {
            "tags": []
          },
          "execution_count": 15
        }
      ]
    },
    {
      "cell_type": "markdown",
      "metadata": {
        "id": "iRzJev6e2CEu"
      },
      "source": [
        "**Stacked LSTM**"
      ]
    },
    {
      "cell_type": "code",
      "metadata": {
        "colab": {
          "base_uri": "https://localhost:8080/"
        },
        "id": "Iji2bUx9zWwi",
        "outputId": "5b7f0c9f-efd8-49f3-c400-a95ea8cb3445"
      },
      "source": [
        "#build model\n",
        "#Two lstm layers are stacked \n",
        "model=Sequential()\n",
        "model.add(LSTM(100,activation='relu',return_sequences=True, input_shape=(n_features,1)))\n",
        "model.add(LSTM(50,activation='relu'))\n",
        "model.add(Dense(1))\n",
        "model.compile(loss='mean_squared_error',optimizer='adam')\n",
        "\n",
        "model.summary()"
      ],
      "execution_count": 18,
      "outputs": [
        {
          "output_type": "stream",
          "text": [
            "Model: \"sequential_3\"\n",
            "_________________________________________________________________\n",
            "Layer (type)                 Output Shape              Param #   \n",
            "=================================================================\n",
            "lstm_5 (LSTM)                (None, 3, 100)            40800     \n",
            "_________________________________________________________________\n",
            "lstm_6 (LSTM)                (None, 50)                30200     \n",
            "_________________________________________________________________\n",
            "dense_1 (Dense)              (None, 1)                 51        \n",
            "=================================================================\n",
            "Total params: 71,051\n",
            "Trainable params: 71,051\n",
            "Non-trainable params: 0\n",
            "_________________________________________________________________\n"
          ],
          "name": "stdout"
        }
      ]
    },
    {
      "cell_type": "code",
      "metadata": {
        "id": "r819gssozYCn"
      },
      "source": [
        "#fit model\n",
        "history=model.fit(x,y,epochs=100,batch_size=1,verbose=0)"
      ],
      "execution_count": 19,
      "outputs": []
    },
    {
      "cell_type": "code",
      "metadata": {
        "colab": {
          "base_uri": "https://localhost:8080/",
          "height": 282
        },
        "id": "xQI0cYY62xlN",
        "outputId": "b701bfd0-aae5-4b2c-dff6-555ec3c30743"
      },
      "source": [
        "plt.plot(history.history['loss'])"
      ],
      "execution_count": 20,
      "outputs": [
        {
          "output_type": "execute_result",
          "data": {
            "text/plain": [
              "[<matplotlib.lines.Line2D at 0x7f221bda9e50>]"
            ]
          },
          "metadata": {
            "tags": []
          },
          "execution_count": 20
        },
        {
          "output_type": "display_data",
          "data": {
            "image/png": "[encoded data removed]",
            "text/plain": [
              "<Figure size 432x288 with 1 Axes>"
            ]
          },
          "metadata": {
            "tags": [],
            "needs_background": "light"
          }
        }
      ]
    },
    {
      "cell_type": "code",
      "metadata": {
        "colab": {
          "base_uri": "https://localhost:8080/"
        },
        "id": "CB4_R3mr20-L",
        "outputId": "6a8e8e97-f714-4113-8035-4d27c47c9d0e"
      },
      "source": [
        "output=model.predict(test)\n",
        "output"
      ],
      "execution_count": 21,
      "outputs": [
        {
          "output_type": "execute_result",
          "data": {
            "text/plain": [
              "array([[9.701557]], dtype=float32)"
            ]
          },
          "metadata": {
            "tags": []
          },
          "execution_count": 21
        }
      ]
    },
    {
      "cell_type": "markdown",
      "metadata": {
        "id": "3n2987cE3G_G"
      },
      "source": [
        "**Bidirectional LSTM**"
      ]
    },
    {
      "cell_type": "code",
      "metadata": {
        "colab": {
          "base_uri": "https://localhost:8080/"
        },
        "id": "mAVw-PYm3AcA",
        "outputId": "00fba805-0c11-4908-b7c4-9cf6a50316ad"
      },
      "source": [
        "from keras.layers import Bidirectional\n",
        "\n",
        "#data is given bidirectional\n",
        "#max 100 epochs\n",
        "model=Sequential()\n",
        "model.add(Bidirectional(LSTM(100,activation='relu'),input_shape=(n_features,1)))\n",
        "model.add(Dense(1))\n",
        "model.compile(loss='mean_squared_error',optimizer='adam')\n",
        "\n",
        "model.summary()"
      ],
      "execution_count": 28,
      "outputs": [
        {
          "output_type": "stream",
          "text": [
            "Model: \"sequential_6\"\n",
            "_________________________________________________________________\n",
            "Layer (type)                 Output Shape              Param #   \n",
            "=================================================================\n",
            "bidirectional_2 (Bidirection (None, 200)               81600     \n",
            "_________________________________________________________________\n",
            "dense_4 (Dense)              (None, 1)                 201       \n",
            "=================================================================\n",
            "Total params: 81,801\n",
            "Trainable params: 81,801\n",
            "Non-trainable params: 0\n",
            "_________________________________________________________________\n"
          ],
          "name": "stdout"
        }
      ]
    },
    {
      "cell_type": "code",
      "metadata": {
        "id": "DVH3_OpV3oKD"
      },
      "source": [
        "#fit model\n",
        "history=model.fit(x,y,epochs=100,batch_size=1,verbose=0)"
      ],
      "execution_count": 26,
      "outputs": []
    },
    {
      "cell_type": "code",
      "metadata": {
        "colab": {
          "base_uri": "https://localhost:8080/"
        },
        "id": "PSrbbw674XrY",
        "outputId": "72c4c87d-eefa-4755-d46c-a5e20c1f482c"
      },
      "source": [
        "output=model.predict(test)\n",
        "output"
      ],
      "execution_count": 27,
      "outputs": [
        {
          "output_type": "execute_result",
          "data": {
            "text/plain": [
              "array([[9.657939]], dtype=float32)"
            ]
          },
          "metadata": {
            "tags": []
          },
          "execution_count": 27
        }
      ]
    }
  ]
}