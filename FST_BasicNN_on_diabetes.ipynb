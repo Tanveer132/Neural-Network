{
  "nbformat": 4,
  "nbformat_minor": 0,
  "metadata": {
    "colab": {
      "name": "FST_NeuralNetwork_RNN on diabetes.ipynb",
      "provenance": [],
      "collapsed_sections": [],
      "authorship_tag": "ABX9TyPVJHrlGSKdcJXRL7VH3eZR",
      "include_colab_link": true
    },
    "kernelspec": {
      "name": "python3",
      "display_name": "Python 3"
    },
    "language_info": {
      "name": "python"
    }
  },
  "cells": [
    {
      "cell_type": "markdown",
      "metadata": {
        "id": "view-in-github",
        "colab_type": "text"
      },
      "source": [
        "<a href=\"https://colab.research.google.com/github/Tanveer132/Neural-Network/blob/main/FST_NeuralNetwork_RNN_on_diabetes.ipynb\" target=\"_parent\"><img src=\"https://colab.research.google.com/assets/colab-badge.svg\" alt=\"Open In Colab\"/></a>"
      ]
    },
    {
      "cell_type": "code",
      "metadata": {
        "id": "AAzQcPkG4MkC"
      },
      "source": [
        "import pandas as pd\n",
        "import numpy as np\n",
        "from sklearn.model_selection import train_test_split\n",
        "from keras.models import Sequential\n",
        "from keras.layers import Dense"
      ],
      "execution_count": 4,
      "outputs": []
    },
    {
      "cell_type": "code",
      "metadata": {
        "colab": {
          "base_uri": "https://localhost:8080/",
          "height": 206
        },
        "id": "Op1NFRZh4kIv",
        "outputId": "242f9a1f-439b-411c-e8a3-cd447b22e644"
      },
      "source": [
        "df=pd.read_csv('/content/diabetes.csv')\n",
        "df.head()"
      ],
      "execution_count": 2,
      "outputs": [
        {
          "output_type": "execute_result",
          "data": {
            "text/html": [
              "<div>\n",
              "<style scoped>\n",
              "    .dataframe tbody tr th:only-of-type {\n",
              "        vertical-align: middle;\n",
              "    }\n",
              "\n",
              "    .dataframe tbody tr th {\n",
              "        vertical-align: top;\n",
              "    }\n",
              "\n",
              "    .dataframe thead th {\n",
              "        text-align: right;\n",
              "    }\n",
              "</style>\n",
              "<table border=\"1\" class=\"dataframe\">\n",
              "  <thead>\n",
              "    <tr style=\"text-align: right;\">\n",
              "      <th></th>\n",
              "      <th>Pregnancies</th>\n",
              "      <th>Glucose</th>\n",
              "      <th>BloodPressure</th>\n",
              "      <th>SkinThickness</th>\n",
              "      <th>Insulin</th>\n",
              "      <th>BMI</th>\n",
              "      <th>DiabetesPedigreeFunction</th>\n",
              "      <th>Age</th>\n",
              "      <th>Outcome</th>\n",
              "    </tr>\n",
              "  </thead>\n",
              "  <tbody>\n",
              "    <tr>\n",
              "      <th>0</th>\n",
              "      <td>6</td>\n",
              "      <td>148</td>\n",
              "      <td>72</td>\n",
              "      <td>35</td>\n",
              "      <td>0</td>\n",
              "      <td>33.6</td>\n",
              "      <td>0.627</td>\n",
              "      <td>50</td>\n",
              "      <td>1</td>\n",
              "    </tr>\n",
              "    <tr>\n",
              "      <th>1</th>\n",
              "      <td>1</td>\n",
              "      <td>85</td>\n",
              "      <td>66</td>\n",
              "      <td>29</td>\n",
              "      <td>0</td>\n",
              "      <td>26.6</td>\n",
              "      <td>0.351</td>\n",
              "      <td>31</td>\n",
              "      <td>0</td>\n",
              "    </tr>\n",
              "    <tr>\n",
              "      <th>2</th>\n",
              "      <td>8</td>\n",
              "      <td>183</td>\n",
              "      <td>64</td>\n",
              "      <td>0</td>\n",
              "      <td>0</td>\n",
              "      <td>23.3</td>\n",
              "      <td>0.672</td>\n",
              "      <td>32</td>\n",
              "      <td>1</td>\n",
              "    </tr>\n",
              "    <tr>\n",
              "      <th>3</th>\n",
              "      <td>1</td>\n",
              "      <td>89</td>\n",
              "      <td>66</td>\n",
              "      <td>23</td>\n",
              "      <td>94</td>\n",
              "      <td>28.1</td>\n",
              "      <td>0.167</td>\n",
              "      <td>21</td>\n",
              "      <td>0</td>\n",
              "    </tr>\n",
              "    <tr>\n",
              "      <th>4</th>\n",
              "      <td>0</td>\n",
              "      <td>137</td>\n",
              "      <td>40</td>\n",
              "      <td>35</td>\n",
              "      <td>168</td>\n",
              "      <td>43.1</td>\n",
              "      <td>2.288</td>\n",
              "      <td>33</td>\n",
              "      <td>1</td>\n",
              "    </tr>\n",
              "  </tbody>\n",
              "</table>\n",
              "</div>"
            ],
            "text/plain": [
              "   Pregnancies  Glucose  BloodPressure  ...  DiabetesPedigreeFunction  Age  Outcome\n",
              "0            6      148             72  ...                     0.627   50        1\n",
              "1            1       85             66  ...                     0.351   31        0\n",
              "2            8      183             64  ...                     0.672   32        1\n",
              "3            1       89             66  ...                     0.167   21        0\n",
              "4            0      137             40  ...                     2.288   33        1\n",
              "\n",
              "[5 rows x 9 columns]"
            ]
          },
          "metadata": {
            "tags": []
          },
          "execution_count": 2
        }
      ]
    },
    {
      "cell_type": "code",
      "metadata": {
        "colab": {
          "base_uri": "https://localhost:8080/"
        },
        "id": "8YMbX6Wg7054",
        "outputId": "90c191ad-af10-46a7-c6ca-5da110a470b7"
      },
      "source": [
        "df.shape"
      ],
      "execution_count": 17,
      "outputs": [
        {
          "output_type": "execute_result",
          "data": {
            "text/plain": [
              "(768, 9)"
            ]
          },
          "metadata": {
            "tags": []
          },
          "execution_count": 17
        }
      ]
    },
    {
      "cell_type": "code",
      "metadata": {
        "id": "AVt4Ai7N4xbw"
      },
      "source": [
        "x=df.drop(columns=['Outcome'])\n",
        "y=df['Outcome']"
      ],
      "execution_count": 3,
      "outputs": []
    },
    {
      "cell_type": "code",
      "metadata": {
        "id": "UFU7NFNv5BQZ"
      },
      "source": [
        "xtrain,xtest,ytrain,ytest=train_test_split(x,y,test_size=0.2,random_state=0)"
      ],
      "execution_count": 6,
      "outputs": []
    },
    {
      "cell_type": "code",
      "metadata": {
        "colab": {
          "base_uri": "https://localhost:8080/"
        },
        "id": "5P2fB31I5S5o",
        "outputId": "92b4acba-29e7-4898-e6b5-b801a3ed0ef0"
      },
      "source": [
        "#Select model\n",
        "model=Sequential()\n",
        "\n",
        "#Add layers sequentially (no of neurons,activation fun,no of features)\n",
        "model.add(Dense(12,activation=\"relu\",input_dim=8))\n",
        "model.add(Dense(10,activation='relu'))\n",
        "model.add(Dense(1,activation=\"sigmoid\"))\n",
        "\n",
        "#set model with loss fun, optimizer\n",
        "model.compile(loss=\"binary_crossentropy\",optimizer='adam',metrics=['accuracy'])\n",
        "\n",
        "#check summery of the model\n",
        "model.summary()"
      ],
      "execution_count": 7,
      "outputs": [
        {
          "output_type": "stream",
          "text": [
            "Model: \"sequential\"\n",
            "_________________________________________________________________\n",
            "Layer (type)                 Output Shape              Param #   \n",
            "=================================================================\n",
            "dense (Dense)                (None, 12)                108       \n",
            "_________________________________________________________________\n",
            "dense_1 (Dense)              (None, 10)                130       \n",
            "_________________________________________________________________\n",
            "dense_2 (Dense)              (None, 1)                 11        \n",
            "=================================================================\n",
            "Total params: 249\n",
            "Trainable params: 249\n",
            "Non-trainable params: 0\n",
            "_________________________________________________________________\n"
          ],
          "name": "stdout"
        }
      ]
    },
    {
      "cell_type": "code",
      "metadata": {
        "colab": {
          "base_uri": "https://localhost:8080/"
        },
        "id": "WeyTtaji5faU",
        "outputId": "942f5f4b-6a5c-494d-c976-fc69d9669d42"
      },
      "source": [
        "#fit model(epochs=no. of passes , batch =data divided in batches)\n",
        "model.fit(x,y,epochs=50,batch_size=10)"
      ],
      "execution_count": 8,
      "outputs": [
        {
          "output_type": "stream",
          "text": [
            "Epoch 1/50\n",
            "77/77 [==============================] - 1s 1ms/step - loss: 3.7472 - accuracy: 0.5035\n",
            "Epoch 2/50\n",
            "77/77 [==============================] - 0s 1ms/step - loss: 1.8473 - accuracy: 0.5177\n",
            "Epoch 3/50\n",
            "77/77 [==============================] - 0s 1ms/step - loss: 1.3968 - accuracy: 0.5495\n",
            "Epoch 4/50\n",
            "77/77 [==============================] - 0s 999us/step - loss: 1.2072 - accuracy: 0.5405\n",
            "Epoch 5/50\n",
            "77/77 [==============================] - 0s 1ms/step - loss: 0.9646 - accuracy: 0.5440\n",
            "Epoch 6/50\n",
            "77/77 [==============================] - 0s 1ms/step - loss: 0.8307 - accuracy: 0.5737\n",
            "Epoch 7/50\n",
            "77/77 [==============================] - 0s 1ms/step - loss: 0.7600 - accuracy: 0.6165\n",
            "Epoch 8/50\n",
            "77/77 [==============================] - 0s 1ms/step - loss: 0.6966 - accuracy: 0.6097\n",
            "Epoch 9/50\n",
            "77/77 [==============================] - 0s 1ms/step - loss: 0.6902 - accuracy: 0.6315\n",
            "Epoch 10/50\n",
            "77/77 [==============================] - 0s 1ms/step - loss: 0.6796 - accuracy: 0.6111\n",
            "Epoch 11/50\n",
            "77/77 [==============================] - 0s 1ms/step - loss: 0.6843 - accuracy: 0.6442\n",
            "Epoch 12/50\n",
            "77/77 [==============================] - 0s 1ms/step - loss: 0.6686 - accuracy: 0.6466\n",
            "Epoch 13/50\n",
            "77/77 [==============================] - 0s 1ms/step - loss: 0.6568 - accuracy: 0.6378\n",
            "Epoch 14/50\n",
            "77/77 [==============================] - 0s 1ms/step - loss: 0.6697 - accuracy: 0.6445\n",
            "Epoch 15/50\n",
            "77/77 [==============================] - 0s 1ms/step - loss: 0.6653 - accuracy: 0.6511\n",
            "Epoch 16/50\n",
            "77/77 [==============================] - 0s 1ms/step - loss: 0.6419 - accuracy: 0.6475\n",
            "Epoch 17/50\n",
            "77/77 [==============================] - 0s 1ms/step - loss: 0.6158 - accuracy: 0.6870\n",
            "Epoch 18/50\n",
            "77/77 [==============================] - 0s 1ms/step - loss: 0.6013 - accuracy: 0.7011\n",
            "Epoch 19/50\n",
            "77/77 [==============================] - 0s 1ms/step - loss: 0.6019 - accuracy: 0.6757\n",
            "Epoch 20/50\n",
            "77/77 [==============================] - 0s 1ms/step - loss: 0.6147 - accuracy: 0.6902\n",
            "Epoch 21/50\n",
            "77/77 [==============================] - 0s 1ms/step - loss: 0.6684 - accuracy: 0.6673\n",
            "Epoch 22/50\n",
            "77/77 [==============================] - 0s 1ms/step - loss: 0.6078 - accuracy: 0.6832\n",
            "Epoch 23/50\n",
            "77/77 [==============================] - 0s 1ms/step - loss: 0.6254 - accuracy: 0.6793\n",
            "Epoch 24/50\n",
            "77/77 [==============================] - 0s 1ms/step - loss: 0.6053 - accuracy: 0.6715\n",
            "Epoch 25/50\n",
            "77/77 [==============================] - 0s 1ms/step - loss: 0.5881 - accuracy: 0.6937\n",
            "Epoch 26/50\n",
            "77/77 [==============================] - 0s 1ms/step - loss: 0.5728 - accuracy: 0.7286\n",
            "Epoch 27/50\n",
            "77/77 [==============================] - 0s 1ms/step - loss: 0.6325 - accuracy: 0.6810\n",
            "Epoch 28/50\n",
            "77/77 [==============================] - 0s 1ms/step - loss: 0.6042 - accuracy: 0.7191\n",
            "Epoch 29/50\n",
            "77/77 [==============================] - 0s 1ms/step - loss: 0.5915 - accuracy: 0.6727\n",
            "Epoch 30/50\n",
            "77/77 [==============================] - 0s 1ms/step - loss: 0.5923 - accuracy: 0.6908\n",
            "Epoch 31/50\n",
            "77/77 [==============================] - 0s 1ms/step - loss: 0.6159 - accuracy: 0.6936\n",
            "Epoch 32/50\n",
            "77/77 [==============================] - 0s 1ms/step - loss: 0.5876 - accuracy: 0.7242\n",
            "Epoch 33/50\n",
            "77/77 [==============================] - 0s 1ms/step - loss: 0.5939 - accuracy: 0.6824\n",
            "Epoch 34/50\n",
            "77/77 [==============================] - 0s 1ms/step - loss: 0.6345 - accuracy: 0.6888\n",
            "Epoch 35/50\n",
            "77/77 [==============================] - 0s 1ms/step - loss: 0.6003 - accuracy: 0.7061\n",
            "Epoch 36/50\n",
            "77/77 [==============================] - 0s 1ms/step - loss: 0.5450 - accuracy: 0.7280\n",
            "Epoch 37/50\n",
            "77/77 [==============================] - 0s 1ms/step - loss: 0.5797 - accuracy: 0.7213\n",
            "Epoch 38/50\n",
            "77/77 [==============================] - 0s 1ms/step - loss: 0.5759 - accuracy: 0.7258\n",
            "Epoch 39/50\n",
            "77/77 [==============================] - 0s 1ms/step - loss: 0.6858 - accuracy: 0.6832\n",
            "Epoch 40/50\n",
            "77/77 [==============================] - 0s 999us/step - loss: 0.5916 - accuracy: 0.6940\n",
            "Epoch 41/50\n",
            "77/77 [==============================] - 0s 1ms/step - loss: 0.5689 - accuracy: 0.7231\n",
            "Epoch 42/50\n",
            "77/77 [==============================] - 0s 1ms/step - loss: 0.5797 - accuracy: 0.7178\n",
            "Epoch 43/50\n",
            "77/77 [==============================] - 0s 1ms/step - loss: 0.5918 - accuracy: 0.6621\n",
            "Epoch 44/50\n",
            "77/77 [==============================] - 0s 1ms/step - loss: 0.5920 - accuracy: 0.7102\n",
            "Epoch 45/50\n",
            "77/77 [==============================] - 0s 1ms/step - loss: 0.5586 - accuracy: 0.7247\n",
            "Epoch 46/50\n",
            "77/77 [==============================] - 0s 1ms/step - loss: 0.5734 - accuracy: 0.7213\n",
            "Epoch 47/50\n",
            "77/77 [==============================] - 0s 1ms/step - loss: 0.5710 - accuracy: 0.6820\n",
            "Epoch 48/50\n",
            "77/77 [==============================] - 0s 1ms/step - loss: 0.5996 - accuracy: 0.6836\n",
            "Epoch 49/50\n",
            "77/77 [==============================] - 0s 1ms/step - loss: 0.5373 - accuracy: 0.7507\n",
            "Epoch 50/50\n",
            "77/77 [==============================] - 0s 1ms/step - loss: 0.5727 - accuracy: 0.7248\n"
          ],
          "name": "stdout"
        },
        {
          "output_type": "execute_result",
          "data": {
            "text/plain": [
              "<tensorflow.python.keras.callbacks.History at 0x7fa7330bfc10>"
            ]
          },
          "metadata": {
            "tags": []
          },
          "execution_count": 8
        }
      ]
    },
    {
      "cell_type": "code",
      "metadata": {
        "colab": {
          "base_uri": "https://localhost:8080/"
        },
        "id": "MSe_py5q5y7S",
        "outputId": "0be4a62f-8e1a-4242-dc78-1a867d445417"
      },
      "source": [
        "#evaluate min loss and best accuracy stored in model\n",
        "loss,acc=model.evaluate(x,y)"
      ],
      "execution_count": 16,
      "outputs": [
        {
          "output_type": "stream",
          "text": [
            "24/24 [==============================] - 0s 1ms/step - loss: 0.5350 - accuracy: 0.7357\n"
          ],
          "name": "stdout"
        }
      ]
    },
    {
      "cell_type": "code",
      "metadata": {
        "id": "lrReRyz357f8"
      },
      "source": [
        ""
      ],
      "execution_count": null,
      "outputs": []
    }
  ]
}
