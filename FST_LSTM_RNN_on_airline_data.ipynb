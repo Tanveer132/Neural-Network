{
  "nbformat": 4,
  "nbformat_minor": 0,
  "metadata": {
    "colab": {
      "name": "FST_LSTM RNN on airline data.ipynb",
      "provenance": [],
      "authorship_tag": "ABX9TyMdcZ/V5AqJjPcGC+nbyMsf",
      "include_colab_link": true
    },
    "kernelspec": {
      "name": "python3",
      "display_name": "Python 3"
    },
    "language_info": {
      "name": "python"
    }
  },
  "cells": [
    {
      "cell_type": "markdown",
      "metadata": {
        "id": "view-in-github",
        "colab_type": "text"
      },
      "source": [
        "<a href=\"https://colab.research.google.com/github/Tanveer132/Neural-Network/blob/main/FST_LSTM_RNN_on_airline_data.ipynb\" target=\"_parent\"><img src=\"https://colab.research.google.com/assets/colab-badge.svg\" alt=\"Open In Colab\"/></a>"
      ]
    },
    {
      "cell_type": "markdown",
      "metadata": {
        "id": "6OTx61RvE9cO"
      },
      "source": [
        "#Perform LSTM on airline passengers data"
      ]
    },
    {
      "cell_type": "code",
      "metadata": {
        "id": "w8B2qX8ZDA2d"
      },
      "source": [
        "import numpy as np\n",
        "import pandas as pd\n",
        "import matplotlib.pyplot as plt\n",
        "from sklearn.preprocessing import StandardScaler\n",
        "\n",
        "from keras.layers import LSTM\n",
        "from keras.layers import Dense\n",
        "from keras import Sequential"
      ],
      "execution_count": 1,
      "outputs": []
    },
    {
      "cell_type": "markdown",
      "metadata": {
        "id": "zLxWmwDmFFyp"
      },
      "source": [
        "##Import data, split and scale"
      ]
    },
    {
      "cell_type": "code",
      "metadata": {
        "colab": {
          "base_uri": "https://localhost:8080/",
          "height": 206
        },
        "id": "BXMKtkfVDdCk",
        "outputId": "7eebb374-d9db-498e-bffc-d7be4c52c1f7"
      },
      "source": [
        "df=pd.read_csv('/content/international-airline-passengers.csv')\n",
        "df.head()"
      ],
      "execution_count": 2,
      "outputs": [
        {
          "output_type": "execute_result",
          "data": {
            "text/html": [
              "<div>\n",
              "<style scoped>\n",
              "    .dataframe tbody tr th:only-of-type {\n",
              "        vertical-align: middle;\n",
              "    }\n",
              "\n",
              "    .dataframe tbody tr th {\n",
              "        vertical-align: top;\n",
              "    }\n",
              "\n",
              "    .dataframe thead th {\n",
              "        text-align: right;\n",
              "    }\n",
              "</style>\n",
              "<table border=\"1\" class=\"dataframe\">\n",
              "  <thead>\n",
              "    <tr style=\"text-align: right;\">\n",
              "      <th></th>\n",
              "      <th>Month</th>\n",
              "      <th>International airline passengers: monthly totals in thousands. Jan 49 ? Dec 60</th>\n",
              "    </tr>\n",
              "  </thead>\n",
              "  <tbody>\n",
              "    <tr>\n",
              "      <th>0</th>\n",
              "      <td>1949-01</td>\n",
              "      <td>112.0</td>\n",
              "    </tr>\n",
              "    <tr>\n",
              "      <th>1</th>\n",
              "      <td>1949-02</td>\n",
              "      <td>118.0</td>\n",
              "    </tr>\n",
              "    <tr>\n",
              "      <th>2</th>\n",
              "      <td>1949-03</td>\n",
              "      <td>132.0</td>\n",
              "    </tr>\n",
              "    <tr>\n",
              "      <th>3</th>\n",
              "      <td>1949-04</td>\n",
              "      <td>129.0</td>\n",
              "    </tr>\n",
              "    <tr>\n",
              "      <th>4</th>\n",
              "      <td>1949-05</td>\n",
              "      <td>121.0</td>\n",
              "    </tr>\n",
              "  </tbody>\n",
              "</table>\n",
              "</div>"
            ],
            "text/plain": [
              "     Month  International airline passengers: monthly totals in thousands. Jan 49 ? Dec 60\n",
              "0  1949-01                                              112.0                             \n",
              "1  1949-02                                              118.0                             \n",
              "2  1949-03                                              132.0                             \n",
              "3  1949-04                                              129.0                             \n",
              "4  1949-05                                              121.0                             "
            ]
          },
          "metadata": {
            "tags": []
          },
          "execution_count": 2
        }
      ]
    },
    {
      "cell_type": "code",
      "metadata": {
        "colab": {
          "base_uri": "https://localhost:8080/"
        },
        "id": "PIfD3CX_D4Dp",
        "outputId": "1d58612f-99f8-42d2-c270-cf4240202ac2"
      },
      "source": [
        "df.columns"
      ],
      "execution_count": 3,
      "outputs": [
        {
          "output_type": "execute_result",
          "data": {
            "text/plain": [
              "Index(['Month', 'International airline passengers: monthly totals in thousands. Jan 49 ? Dec 60'], dtype='object')"
            ]
          },
          "metadata": {
            "tags": []
          },
          "execution_count": 3
        }
      ]
    },
    {
      "cell_type": "code",
      "metadata": {
        "colab": {
          "base_uri": "https://localhost:8080/"
        },
        "id": "XPwn-p0DD9A1",
        "outputId": "f437b549-cde3-4913-d487-d4f20e8c7010"
      },
      "source": [
        "data=df[['International airline passengers: monthly totals in thousands. Jan 49 ? Dec 60']]\n",
        "data.head(),data.tail()"
      ],
      "execution_count": 4,
      "outputs": [
        {
          "output_type": "execute_result",
          "data": {
            "text/plain": [
              "(   International airline passengers: monthly totals in thousands. Jan 49 ? Dec 60\n",
              " 0                                              112.0                             \n",
              " 1                                              118.0                             \n",
              " 2                                              132.0                             \n",
              " 3                                              129.0                             \n",
              " 4                                              121.0                             ,\n",
              "      International airline passengers: monthly totals in thousands. Jan 49 ? Dec 60\n",
              " 140                                              508.0                             \n",
              " 141                                              461.0                             \n",
              " 142                                              390.0                             \n",
              " 143                                              432.0                             \n",
              " 144                                                NaN                             )"
            ]
          },
          "metadata": {
            "tags": []
          },
          "execution_count": 4
        }
      ]
    },
    {
      "cell_type": "code",
      "metadata": {
        "id": "PeZXiC4FEHKI"
      },
      "source": [
        "train=data.iloc[:121,:]\n",
        "test=data.iloc[121:,:]"
      ],
      "execution_count": 5,
      "outputs": []
    },
    {
      "cell_type": "code",
      "metadata": {
        "id": "SXcZVNpXEpgk"
      },
      "source": [
        "scaler=StandardScaler()\n",
        "sc_train=scaler.fit_transform(train)\n",
        "sc_test=scaler.fit_transform(test)\n"
      ],
      "execution_count": 6,
      "outputs": []
    },
    {
      "cell_type": "markdown",
      "metadata": {
        "id": "6zNxmlnLFKkP"
      },
      "source": [
        "##Define functions to prepare data for LSTM"
      ]
    },
    {
      "cell_type": "code",
      "metadata": {
        "id": "8dam4dATE4yV"
      },
      "source": [
        "def featureTransform(n_steps,data):\n",
        "  x=[]\n",
        "  y=[]\n",
        "  for i in range(n_steps,len(data)):\n",
        "    x.append(data[i-n_steps:i,0])\n",
        "    y.append(data[i,0])\n",
        "  x,y=np.array(x),np.array(y)\n",
        "  return x,y"
      ],
      "execution_count": 7,
      "outputs": []
    },
    {
      "cell_type": "code",
      "metadata": {
        "colab": {
          "base_uri": "https://localhost:8080/"
        },
        "id": "gZ6ACejqFVSx",
        "outputId": "ac22f40d-7e07-4bbb-a8e8-4b4b4d315908"
      },
      "source": [
        "n_steps=12\n",
        "\n",
        "xtrain,ytrain=featureTransform(n_steps,sc_train)\n",
        "\n",
        "xtrain.shape,ytrain.shape"
      ],
      "execution_count": 8,
      "outputs": [
        {
          "output_type": "execute_result",
          "data": {
            "text/plain": [
              "((109, 12), (109,))"
            ]
          },
          "metadata": {
            "tags": []
          },
          "execution_count": 8
        }
      ]
    },
    {
      "cell_type": "code",
      "metadata": {
        "colab": {
          "base_uri": "https://localhost:8080/"
        },
        "id": "h2TxB6c0FZMJ",
        "outputId": "d89d40e5-01af-4cb9-9c7e-70ab768b46f8"
      },
      "source": [
        "xtrain=xtrain.reshape(xtrain.shape[0],xtrain.shape[1],1)\n",
        "\n",
        "xtrain.shape"
      ],
      "execution_count": 9,
      "outputs": [
        {
          "output_type": "execute_result",
          "data": {
            "text/plain": [
              "(109, 12, 1)"
            ]
          },
          "metadata": {
            "tags": []
          },
          "execution_count": 9
        }
      ]
    },
    {
      "cell_type": "markdown",
      "metadata": {
        "id": "b3nz6bKNFuFd"
      },
      "source": [
        "##Build and fit model"
      ]
    },
    {
      "cell_type": "code",
      "metadata": {
        "colab": {
          "base_uri": "https://localhost:8080/"
        },
        "id": "SMa19UaeFqp2",
        "outputId": "48cf7282-72f3-40e8-d96e-13a6328cedd8"
      },
      "source": [
        "#build model\n",
        "model=Sequential()\n",
        "model.add(LSTM(200,activation='relu',input_shape=(n_steps,1)))\n",
        "model.add(Dense(1))\n",
        "model.compile(loss='mean_squared_error',optimizer='adam')\n",
        "\n",
        "model.summary()"
      ],
      "execution_count": 10,
      "outputs": [
        {
          "output_type": "stream",
          "text": [
            "Model: \"sequential\"\n",
            "_________________________________________________________________\n",
            "Layer (type)                 Output Shape              Param #   \n",
            "=================================================================\n",
            "lstm (LSTM)                  (None, 200)               161600    \n",
            "_________________________________________________________________\n",
            "dense (Dense)                (None, 1)                 201       \n",
            "=================================================================\n",
            "Total params: 161,801\n",
            "Trainable params: 161,801\n",
            "Non-trainable params: 0\n",
            "_________________________________________________________________\n"
          ],
          "name": "stdout"
        }
      ]
    },
    {
      "cell_type": "code",
      "metadata": {
        "colab": {
          "base_uri": "https://localhost:8080/"
        },
        "id": "G6wKEApkF8qB",
        "outputId": "2c6026de-9840-467f-f1ed-5baaf0597e05"
      },
      "source": [
        "history=model.fit(xtrain,ytrain,epochs=100,batch_size=30,verbose=1)"
      ],
      "execution_count": 11,
      "outputs": [
        {
          "output_type": "stream",
          "text": [
            "Epoch 1/100\n",
            "4/4 [==============================] - 2s 40ms/step - loss: 0.7942\n",
            "Epoch 2/100\n",
            "4/4 [==============================] - 0s 39ms/step - loss: 0.6164\n",
            "Epoch 3/100\n",
            "4/4 [==============================] - 0s 32ms/step - loss: 0.3649\n",
            "Epoch 4/100\n",
            "4/4 [==============================] - 0s 31ms/step - loss: 0.2455\n",
            "Epoch 5/100\n",
            "4/4 [==============================] - 0s 33ms/step - loss: 0.1958\n",
            "Epoch 6/100\n",
            "4/4 [==============================] - 0s 32ms/step - loss: 0.2019\n",
            "Epoch 7/100\n",
            "4/4 [==============================] - 0s 35ms/step - loss: 0.1765\n",
            "Epoch 8/100\n",
            "4/4 [==============================] - 0s 30ms/step - loss: 0.1815\n",
            "Epoch 9/100\n",
            "4/4 [==============================] - 0s 35ms/step - loss: 0.1653\n",
            "Epoch 10/100\n",
            "4/4 [==============================] - 0s 31ms/step - loss: 0.1437\n",
            "Epoch 11/100\n",
            "4/4 [==============================] - 0s 32ms/step - loss: 0.1397\n",
            "Epoch 12/100\n",
            "4/4 [==============================] - 0s 29ms/step - loss: 0.1290\n",
            "Epoch 13/100\n",
            "4/4 [==============================] - 0s 30ms/step - loss: 0.1210\n",
            "Epoch 14/100\n",
            "4/4 [==============================] - 0s 28ms/step - loss: 0.1142\n",
            "Epoch 15/100\n",
            "4/4 [==============================] - 0s 33ms/step - loss: 0.1027\n",
            "Epoch 16/100\n",
            "4/4 [==============================] - 0s 30ms/step - loss: 0.0912\n",
            "Epoch 17/100\n",
            "4/4 [==============================] - 0s 32ms/step - loss: 0.0979\n",
            "Epoch 18/100\n",
            "4/4 [==============================] - 0s 30ms/step - loss: 0.1147\n",
            "Epoch 19/100\n",
            "4/4 [==============================] - 0s 30ms/step - loss: 0.1149\n",
            "Epoch 20/100\n",
            "4/4 [==============================] - 0s 34ms/step - loss: 0.1218\n",
            "Epoch 21/100\n",
            "4/4 [==============================] - 0s 31ms/step - loss: 0.1021\n",
            "Epoch 22/100\n",
            "4/4 [==============================] - 0s 30ms/step - loss: 0.0978\n",
            "Epoch 23/100\n",
            "4/4 [==============================] - 0s 29ms/step - loss: 0.0959\n",
            "Epoch 24/100\n",
            "4/4 [==============================] - 0s 31ms/step - loss: 0.0766\n",
            "Epoch 25/100\n",
            "4/4 [==============================] - 0s 34ms/step - loss: 0.0723\n",
            "Epoch 26/100\n",
            "4/4 [==============================] - 0s 34ms/step - loss: 0.0806\n",
            "Epoch 27/100\n",
            "4/4 [==============================] - 0s 30ms/step - loss: 0.0693\n",
            "Epoch 28/100\n",
            "4/4 [==============================] - 0s 29ms/step - loss: 0.0658\n",
            "Epoch 29/100\n",
            "4/4 [==============================] - 0s 38ms/step - loss: 0.0587\n",
            "Epoch 30/100\n",
            "4/4 [==============================] - 0s 31ms/step - loss: 0.0488\n",
            "Epoch 31/100\n",
            "4/4 [==============================] - 0s 30ms/step - loss: 0.0506\n",
            "Epoch 32/100\n",
            "4/4 [==============================] - 0s 29ms/step - loss: 0.0449\n",
            "Epoch 33/100\n",
            "4/4 [==============================] - 0s 32ms/step - loss: 0.0435\n",
            "Epoch 34/100\n",
            "4/4 [==============================] - 0s 45ms/step - loss: 0.0412\n",
            "Epoch 35/100\n",
            "4/4 [==============================] - 0s 36ms/step - loss: 0.0406\n",
            "Epoch 36/100\n",
            "4/4 [==============================] - 0s 31ms/step - loss: 0.0333\n",
            "Epoch 37/100\n",
            "4/4 [==============================] - 0s 29ms/step - loss: 0.0366\n",
            "Epoch 38/100\n",
            "4/4 [==============================] - 0s 38ms/step - loss: 0.0316\n",
            "Epoch 39/100\n",
            "4/4 [==============================] - 0s 33ms/step - loss: 0.0315\n",
            "Epoch 40/100\n",
            "4/4 [==============================] - 0s 36ms/step - loss: 0.0332\n",
            "Epoch 41/100\n",
            "4/4 [==============================] - 0s 34ms/step - loss: 0.0416\n",
            "Epoch 42/100\n",
            "4/4 [==============================] - 0s 30ms/step - loss: 0.0404\n",
            "Epoch 43/100\n",
            "4/4 [==============================] - 0s 30ms/step - loss: 0.0419\n",
            "Epoch 44/100\n",
            "4/4 [==============================] - 0s 28ms/step - loss: 0.0428\n",
            "Epoch 45/100\n",
            "4/4 [==============================] - 0s 34ms/step - loss: 0.0344\n",
            "Epoch 46/100\n",
            "4/4 [==============================] - 0s 30ms/step - loss: 0.0432\n",
            "Epoch 47/100\n",
            "4/4 [==============================] - 0s 34ms/step - loss: 0.0352\n",
            "Epoch 48/100\n",
            "4/4 [==============================] - 0s 32ms/step - loss: 0.0335\n",
            "Epoch 49/100\n",
            "4/4 [==============================] - 0s 29ms/step - loss: 0.0325\n",
            "Epoch 50/100\n",
            "4/4 [==============================] - 0s 28ms/step - loss: 0.0314\n",
            "Epoch 51/100\n",
            "4/4 [==============================] - 0s 28ms/step - loss: 0.0201\n",
            "Epoch 52/100\n",
            "4/4 [==============================] - 0s 32ms/step - loss: 0.0227\n",
            "Epoch 53/100\n",
            "4/4 [==============================] - 0s 32ms/step - loss: 0.0236\n",
            "Epoch 54/100\n",
            "4/4 [==============================] - 0s 29ms/step - loss: 0.0227\n",
            "Epoch 55/100\n",
            "4/4 [==============================] - 0s 33ms/step - loss: 0.0215\n",
            "Epoch 56/100\n",
            "4/4 [==============================] - 0s 35ms/step - loss: 0.0245\n",
            "Epoch 57/100\n",
            "4/4 [==============================] - 0s 30ms/step - loss: 0.0227\n",
            "Epoch 58/100\n",
            "4/4 [==============================] - 0s 30ms/step - loss: 0.0213\n",
            "Epoch 59/100\n",
            "4/4 [==============================] - 0s 33ms/step - loss: 0.0207\n",
            "Epoch 60/100\n",
            "4/4 [==============================] - 0s 31ms/step - loss: 0.0252\n",
            "Epoch 61/100\n",
            "4/4 [==============================] - 0s 30ms/step - loss: 0.0216\n",
            "Epoch 62/100\n",
            "4/4 [==============================] - 0s 29ms/step - loss: 0.0192\n",
            "Epoch 63/100\n",
            "4/4 [==============================] - 0s 28ms/step - loss: 0.0220\n",
            "Epoch 64/100\n",
            "4/4 [==============================] - 0s 43ms/step - loss: 0.0211\n",
            "Epoch 65/100\n",
            "4/4 [==============================] - 0s 41ms/step - loss: 0.0311\n",
            "Epoch 66/100\n",
            "4/4 [==============================] - 0s 41ms/step - loss: 0.0258\n",
            "Epoch 67/100\n",
            "4/4 [==============================] - 0s 45ms/step - loss: 0.0256\n",
            "Epoch 68/100\n",
            "4/4 [==============================] - 0s 47ms/step - loss: 0.0237\n",
            "Epoch 69/100\n",
            "4/4 [==============================] - 0s 39ms/step - loss: 0.0222\n",
            "Epoch 70/100\n",
            "4/4 [==============================] - 0s 53ms/step - loss: 0.0236\n",
            "Epoch 71/100\n",
            "4/4 [==============================] - 0s 42ms/step - loss: 0.0206\n",
            "Epoch 72/100\n",
            "4/4 [==============================] - 0s 41ms/step - loss: 0.0198\n",
            "Epoch 73/100\n",
            "4/4 [==============================] - 0s 45ms/step - loss: 0.0193\n",
            "Epoch 74/100\n",
            "4/4 [==============================] - 0s 37ms/step - loss: 0.0213\n",
            "Epoch 75/100\n",
            "4/4 [==============================] - 0s 40ms/step - loss: 0.0216\n",
            "Epoch 76/100\n",
            "4/4 [==============================] - 0s 48ms/step - loss: 0.0187\n",
            "Epoch 77/100\n",
            "4/4 [==============================] - 0s 26ms/step - loss: 0.0215\n",
            "Epoch 78/100\n",
            "4/4 [==============================] - 0s 27ms/step - loss: 0.0182\n",
            "Epoch 79/100\n",
            "4/4 [==============================] - 0s 23ms/step - loss: 0.0206\n",
            "Epoch 80/100\n",
            "4/4 [==============================] - 0s 28ms/step - loss: 0.0220\n",
            "Epoch 81/100\n",
            "4/4 [==============================] - 0s 27ms/step - loss: 0.0207\n",
            "Epoch 82/100\n",
            "4/4 [==============================] - 0s 24ms/step - loss: 0.0166\n",
            "Epoch 83/100\n",
            "4/4 [==============================] - 0s 23ms/step - loss: 0.0178\n",
            "Epoch 84/100\n",
            "4/4 [==============================] - 0s 27ms/step - loss: 0.0155\n",
            "Epoch 85/100\n",
            "4/4 [==============================] - 0s 28ms/step - loss: 0.0164\n",
            "Epoch 86/100\n",
            "4/4 [==============================] - 0s 27ms/step - loss: 0.0165\n",
            "Epoch 87/100\n",
            "4/4 [==============================] - 0s 27ms/step - loss: 0.0174\n",
            "Epoch 88/100\n",
            "4/4 [==============================] - 0s 28ms/step - loss: 0.0165\n",
            "Epoch 89/100\n",
            "4/4 [==============================] - 0s 28ms/step - loss: 0.0143\n",
            "Epoch 90/100\n",
            "4/4 [==============================] - 0s 25ms/step - loss: 0.0164\n",
            "Epoch 91/100\n",
            "4/4 [==============================] - 0s 28ms/step - loss: 0.0165\n",
            "Epoch 92/100\n",
            "4/4 [==============================] - 0s 26ms/step - loss: 0.0177\n",
            "Epoch 93/100\n",
            "4/4 [==============================] - 0s 24ms/step - loss: 0.0151\n",
            "Epoch 94/100\n",
            "4/4 [==============================] - 0s 31ms/step - loss: 0.0166\n",
            "Epoch 95/100\n",
            "4/4 [==============================] - 0s 25ms/step - loss: 0.0177\n",
            "Epoch 96/100\n",
            "4/4 [==============================] - 0s 24ms/step - loss: 0.0147\n",
            "Epoch 97/100\n",
            "4/4 [==============================] - 0s 27ms/step - loss: 0.0176\n",
            "Epoch 98/100\n",
            "4/4 [==============================] - 0s 28ms/step - loss: 0.0163\n",
            "Epoch 99/100\n",
            "4/4 [==============================] - 0s 25ms/step - loss: 0.0173\n",
            "Epoch 100/100\n",
            "4/4 [==============================] - 0s 25ms/step - loss: 0.0206\n"
          ],
          "name": "stdout"
        }
      ]
    },
    {
      "cell_type": "code",
      "metadata": {
        "colab": {
          "base_uri": "https://localhost:8080/",
          "height": 282
        },
        "id": "OVbLhOk_GDxg",
        "outputId": "6b44cfba-2397-4cd1-a021-d48dd2097ccf"
      },
      "source": [
        "plt.plot(history.history['loss'])"
      ],
      "execution_count": 12,
      "outputs": [
        {
          "output_type": "execute_result",
          "data": {
            "text/plain": [
              "[<matplotlib.lines.Line2D at 0x7f56c9f03950>]"
            ]
          },
          "metadata": {
            "tags": []
          },
          "execution_count": 12
        },
        {
          "output_type": "display_data",
          "data": {
            "image/png": "[encoded data removed]",
            "text/plain": [
              "<Figure size 432x288 with 1 Axes>"
            ]
          },
          "metadata": {
            "tags": [],
            "needs_background": "light"
          }
        }
      ]
    },
    {
      "cell_type": "markdown",
      "metadata": {
        "id": "7hnjXiTXGR-I"
      },
      "source": [
        "##Prepare test data and predict"
      ]
    },
    {
      "cell_type": "code",
      "metadata": {
        "id": "SdIwbww4GI5i"
      },
      "source": [
        "xtest,ytest=featureTransform(12,sc_test)\n"
      ],
      "execution_count": 13,
      "outputs": []
    },
    {
      "cell_type": "code",
      "metadata": {
        "colab": {
          "base_uri": "https://localhost:8080/"
        },
        "id": "O0KOVfy2GbCG",
        "outputId": "ddf4e747-d861-490b-f32a-26d7a7481bdd"
      },
      "source": [
        "xtest=xtest.reshape(xtest.shape[0],xtest.shape[1],1)\n",
        "\n",
        "xtest.shape"
      ],
      "execution_count": 14,
      "outputs": [
        {
          "output_type": "execute_result",
          "data": {
            "text/plain": [
              "(12, 12, 1)"
            ]
          },
          "metadata": {
            "tags": []
          },
          "execution_count": 14
        }
      ]
    },
    {
      "cell_type": "code",
      "metadata": {
        "id": "xz9mPlEfGiiW"
      },
      "source": [
        "ypred=model.predict(xtest)\n",
        "predictions=scaler.inverse_transform(ypred)\n",
        "predictions=predictions[:10]"
      ],
      "execution_count": 15,
      "outputs": []
    },
    {
      "cell_type": "code",
      "metadata": {
        "id": "C2GpvoXLGnV1"
      },
      "source": [
        "actual=scaler.inverse_transform(ytest.reshape(-1,1))\n",
        "actual=actual[:10]"
      ],
      "execution_count": 16,
      "outputs": []
    },
    {
      "cell_type": "code",
      "metadata": {
        "colab": {
          "base_uri": "https://localhost:8080/"
        },
        "id": "2zPC41zWGqZI",
        "outputId": "6ff6ee4a-7f54-463e-c73c-49aa1955e7d1"
      },
      "source": [
        "from sklearn.metrics import mean_squared_error\n",
        "mse=mean_squared_error(actual,predictions)\n",
        "rmse=np.sqrt(mse)\n",
        "print(mse)\n",
        "print(rmse)"
      ],
      "execution_count": 17,
      "outputs": [
        {
          "output_type": "stream",
          "text": [
            "808.0005361813121\n",
            "28.425350238498595\n"
          ],
          "name": "stdout"
        }
      ]
    },
    {
      "cell_type": "code",
      "metadata": {
        "id": "zUOMK_7iGtvg"
      },
      "source": [
        ""
      ],
      "execution_count": 17,
      "outputs": []
    }
  ]
}