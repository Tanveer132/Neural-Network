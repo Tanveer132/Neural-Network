{
  "nbformat": 4,
  "nbformat_minor": 0,
  "metadata": {
    "colab": {
      "name": "FST_Practice_RNN on loan data.ipynb",
      "provenance": [],
      "authorship_tag": "ABX9TyMWNu3uy3UMMD+thoOWeuEh",
      "include_colab_link": true
    },
    "kernelspec": {
      "name": "python3",
      "display_name": "Python 3"
    },
    "language_info": {
      "name": "python"
    }
  },
  "cells": [
    {
      "cell_type": "markdown",
      "metadata": {
        "id": "view-in-github",
        "colab_type": "text"
      },
      "source": [
        "<a href=\"https://colab.research.google.com/github/Tanveer132/Neural-Network/blob/main/FST_Practice_RNN_on_loan_data.ipynb\" target=\"_parent\"><img src=\"https://colab.research.google.com/assets/colab-badge.svg\" alt=\"Open In Colab\"/></a>"
      ]
    },
    {
      "cell_type": "markdown",
      "metadata": {
        "id": "dunuUnVqkVDH"
      },
      "source": [
        "#Loan prediction using RNN"
      ]
    },
    {
      "cell_type": "code",
      "metadata": {
        "id": "0n4bLEosioqd"
      },
      "source": [
        "import pandas as pd\n",
        "import numpy as np\n",
        "import matplotlib.pyplot as plt\n",
        "import seaborn as  sns\n",
        "\n",
        "from sklearn.preprocessing import StandardScaler\n",
        "from sklearn.model_selection import train_test_split\n",
        "from sklearn.preprocessing import LabelEncoder\n",
        "from sklearn.metrics import accuracy_score,confusion_matrix,classification_report\n",
        "\n",
        "from keras.models import Sequential\n",
        "from keras.layers import Dense"
      ],
      "execution_count": 1,
      "outputs": []
    },
    {
      "cell_type": "code",
      "metadata": {
        "colab": {
          "base_uri": "https://localhost:8080/",
          "height": 244
        },
        "id": "XFSePOCojKgj",
        "outputId": "3d34dbd0-4e1f-414c-85a6-0a703ce782f7"
      },
      "source": [
        "df=pd.read_csv('/content/loan_data_set.csv')\n",
        "df.head()"
      ],
      "execution_count": 2,
      "outputs": [
        {
          "output_type": "execute_result",
          "data": {
            "text/html": [
              "<div>\n",
              "<style scoped>\n",
              "    .dataframe tbody tr th:only-of-type {\n",
              "        vertical-align: middle;\n",
              "    }\n",
              "\n",
              "    .dataframe tbody tr th {\n",
              "        vertical-align: top;\n",
              "    }\n",
              "\n",
              "    .dataframe thead th {\n",
              "        text-align: right;\n",
              "    }\n",
              "</style>\n",
              "<table border=\"1\" class=\"dataframe\">\n",
              "  <thead>\n",
              "    <tr style=\"text-align: right;\">\n",
              "      <th></th>\n",
              "      <th>Loan_ID</th>\n",
              "      <th>Gender</th>\n",
              "      <th>Married</th>\n",
              "      <th>Dependents</th>\n",
              "      <th>Education</th>\n",
              "      <th>Self_Employed</th>\n",
              "      <th>ApplicantIncome</th>\n",
              "      <th>CoapplicantIncome</th>\n",
              "      <th>LoanAmount</th>\n",
              "      <th>Loan_Amount_Term</th>\n",
              "      <th>Credit_History</th>\n",
              "      <th>Property_Area</th>\n",
              "      <th>Loan_Status</th>\n",
              "    </tr>\n",
              "  </thead>\n",
              "  <tbody>\n",
              "    <tr>\n",
              "      <th>0</th>\n",
              "      <td>LP001002</td>\n",
              "      <td>Male</td>\n",
              "      <td>No</td>\n",
              "      <td>0</td>\n",
              "      <td>Graduate</td>\n",
              "      <td>No</td>\n",
              "      <td>5849</td>\n",
              "      <td>0.0</td>\n",
              "      <td>NaN</td>\n",
              "      <td>360.0</td>\n",
              "      <td>1.0</td>\n",
              "      <td>Urban</td>\n",
              "      <td>Y</td>\n",
              "    </tr>\n",
              "    <tr>\n",
              "      <th>1</th>\n",
              "      <td>LP001003</td>\n",
              "      <td>Male</td>\n",
              "      <td>Yes</td>\n",
              "      <td>1</td>\n",
              "      <td>Graduate</td>\n",
              "      <td>No</td>\n",
              "      <td>4583</td>\n",
              "      <td>1508.0</td>\n",
              "      <td>128.0</td>\n",
              "      <td>360.0</td>\n",
              "      <td>1.0</td>\n",
              "      <td>Rural</td>\n",
              "      <td>N</td>\n",
              "    </tr>\n",
              "    <tr>\n",
              "      <th>2</th>\n",
              "      <td>LP001005</td>\n",
              "      <td>Male</td>\n",
              "      <td>Yes</td>\n",
              "      <td>0</td>\n",
              "      <td>Graduate</td>\n",
              "      <td>Yes</td>\n",
              "      <td>3000</td>\n",
              "      <td>0.0</td>\n",
              "      <td>66.0</td>\n",
              "      <td>360.0</td>\n",
              "      <td>1.0</td>\n",
              "      <td>Urban</td>\n",
              "      <td>Y</td>\n",
              "    </tr>\n",
              "    <tr>\n",
              "      <th>3</th>\n",
              "      <td>LP001006</td>\n",
              "      <td>Male</td>\n",
              "      <td>Yes</td>\n",
              "      <td>0</td>\n",
              "      <td>Not Graduate</td>\n",
              "      <td>No</td>\n",
              "      <td>2583</td>\n",
              "      <td>2358.0</td>\n",
              "      <td>120.0</td>\n",
              "      <td>360.0</td>\n",
              "      <td>1.0</td>\n",
              "      <td>Urban</td>\n",
              "      <td>Y</td>\n",
              "    </tr>\n",
              "    <tr>\n",
              "      <th>4</th>\n",
              "      <td>LP001008</td>\n",
              "      <td>Male</td>\n",
              "      <td>No</td>\n",
              "      <td>0</td>\n",
              "      <td>Graduate</td>\n",
              "      <td>No</td>\n",
              "      <td>6000</td>\n",
              "      <td>0.0</td>\n",
              "      <td>141.0</td>\n",
              "      <td>360.0</td>\n",
              "      <td>1.0</td>\n",
              "      <td>Urban</td>\n",
              "      <td>Y</td>\n",
              "    </tr>\n",
              "  </tbody>\n",
              "</table>\n",
              "</div>"
            ],
            "text/plain": [
              "    Loan_ID Gender Married  ... Credit_History Property_Area Loan_Status\n",
              "0  LP001002   Male      No  ...            1.0         Urban           Y\n",
              "1  LP001003   Male     Yes  ...            1.0         Rural           N\n",
              "2  LP001005   Male     Yes  ...            1.0         Urban           Y\n",
              "3  LP001006   Male     Yes  ...            1.0         Urban           Y\n",
              "4  LP001008   Male      No  ...            1.0         Urban           Y\n",
              "\n",
              "[5 rows x 13 columns]"
            ]
          },
          "metadata": {
            "tags": []
          },
          "execution_count": 2
        }
      ]
    },
    {
      "cell_type": "code",
      "metadata": {
        "colab": {
          "base_uri": "https://localhost:8080/"
        },
        "id": "RZwglgxIjXIO",
        "outputId": "fb50044a-0cb1-4cf8-8d79-0a43d6761c1d"
      },
      "source": [
        "df=df.iloc[:,1:]\n",
        "df.info()"
      ],
      "execution_count": 3,
      "outputs": [
        {
          "output_type": "stream",
          "text": [
            "<class 'pandas.core.frame.DataFrame'>\n",
            "RangeIndex: 614 entries, 0 to 613\n",
            "Data columns (total 12 columns):\n",
            " #   Column             Non-Null Count  Dtype  \n",
            "---  ------             --------------  -----  \n",
            " 0   Gender             601 non-null    object \n",
            " 1   Married            611 non-null    object \n",
            " 2   Dependents         599 non-null    object \n",
            " 3   Education          614 non-null    object \n",
            " 4   Self_Employed      582 non-null    object \n",
            " 5   ApplicantIncome    614 non-null    int64  \n",
            " 6   CoapplicantIncome  614 non-null    float64\n",
            " 7   LoanAmount         592 non-null    float64\n",
            " 8   Loan_Amount_Term   600 non-null    float64\n",
            " 9   Credit_History     564 non-null    float64\n",
            " 10  Property_Area      614 non-null    object \n",
            " 11  Loan_Status        614 non-null    object \n",
            "dtypes: float64(4), int64(1), object(7)\n",
            "memory usage: 57.7+ KB\n"
          ],
          "name": "stdout"
        }
      ]
    },
    {
      "cell_type": "code",
      "metadata": {
        "colab": {
          "base_uri": "https://localhost:8080/"
        },
        "id": "Q8o3OxX-jZ5d",
        "outputId": "5108d929-a801-408c-d5ed-32154a9ff8a7"
      },
      "source": [
        "df.isna().sum()"
      ],
      "execution_count": 4,
      "outputs": [
        {
          "output_type": "execute_result",
          "data": {
            "text/plain": [
              "Gender               13\n",
              "Married               3\n",
              "Dependents           15\n",
              "Education             0\n",
              "Self_Employed        32\n",
              "ApplicantIncome       0\n",
              "CoapplicantIncome     0\n",
              "LoanAmount           22\n",
              "Loan_Amount_Term     14\n",
              "Credit_History       50\n",
              "Property_Area         0\n",
              "Loan_Status           0\n",
              "dtype: int64"
            ]
          },
          "metadata": {
            "tags": []
          },
          "execution_count": 4
        }
      ]
    },
    {
      "cell_type": "markdown",
      "metadata": {
        "id": "es2lc1K8kh9E"
      },
      "source": [
        "##data preprocessing"
      ]
    },
    {
      "cell_type": "markdown",
      "metadata": {
        "id": "mLMACKdzlpHW"
      },
      "source": [
        "Fill NaN values"
      ]
    },
    {
      "cell_type": "code",
      "metadata": {
        "id": "C2pdvxxdkgeJ"
      },
      "source": [
        "#catagorised data, better to go with mode value\n",
        "df['Gender']=df['Gender'].fillna(df['Gender'].mode())\n",
        "df[\"Married\"]=df[\"Married\"].fillna(df[\"Married\"].mode())\n",
        "#from graph--costomers with 1 deoendent is having greater chance to get loan\n",
        "df[\"Dependents\"]=df[\"Dependents\"].fillna('0')\n",
        "df[\"Self_Employed\"]=df[\"Self_Employed\"].fillna(df[\"Self_Employed\"].mode())\n"
      ],
      "execution_count": 5,
      "outputs": []
    },
    {
      "cell_type": "code",
      "metadata": {
        "colab": {
          "base_uri": "https://localhost:8080/",
          "height": 625
        },
        "id": "HJXvQiW8kpPB",
        "outputId": "7ce26794-8654-4e30-bdba-473e180904c7"
      },
      "source": [
        "#Filling numerical data\n",
        "#plot graph to check dispersion\n",
        "\n",
        "plt.figure(figsize=(10,10))\n",
        "plt.subplot(2,2,1)\n",
        "sns.histplot(data=df,x=\"LoanAmount\")\n",
        "\n",
        "plt.subplot(2,2,2)\n",
        "sns.histplot(data=df,x=\"Loan_Amount_Term\")\n",
        "\n",
        "plt.subplot(2,2,3)\n",
        "sns.countplot(data=df,x=\"Credit_History\")\n",
        "\n",
        "plt.subplot(2,2,4)\n",
        "sns.countplot(data=df,x=\"Credit_History\",hue=\"Loan_Status\")  "
      ],
      "execution_count": 6,
      "outputs": [
        {
          "output_type": "execute_result",
          "data": {
            "text/plain": [
              "<matplotlib.axes._subplots.AxesSubplot at 0x7fe101827b50>"
            ]
          },
          "metadata": {
            "tags": []
          },
          "execution_count": 6
        },
        {
          "output_type": "display_data",
          "data": {
            "image/png": "[encoded data removed]",
            "text/plain": [
              "<Figure size 720x720 with 4 Axes>"
            ]
          },
          "metadata": {
            "tags": [],
            "needs_background": "light"
          }
        }
      ]
    },
    {
      "cell_type": "code",
      "metadata": {
        "colab": {
          "base_uri": "https://localhost:8080/"
        },
        "id": "IHVI-71nkubl",
        "outputId": "8166b2eb-cd6f-4719-9700-0c250e720cf9"
      },
      "source": [
        "df['LoanAmount']=df['LoanAmount'].fillna(df['LoanAmount'].median())\n",
        "df['Loan_Amount_Term']=df['Loan_Amount_Term'].fillna(df['Loan_Amount_Term'].median())\n",
        "df['Credit_History']=df['Credit_History'].fillna(df['Credit_History'].median())\n",
        "df.isna().sum()"
      ],
      "execution_count": 7,
      "outputs": [
        {
          "output_type": "execute_result",
          "data": {
            "text/plain": [
              "Gender               13\n",
              "Married               3\n",
              "Dependents            0\n",
              "Education             0\n",
              "Self_Employed        32\n",
              "ApplicantIncome       0\n",
              "CoapplicantIncome     0\n",
              "LoanAmount            0\n",
              "Loan_Amount_Term      0\n",
              "Credit_History        0\n",
              "Property_Area         0\n",
              "Loan_Status           0\n",
              "dtype: int64"
            ]
          },
          "metadata": {
            "tags": []
          },
          "execution_count": 7
        }
      ]
    },
    {
      "cell_type": "code",
      "metadata": {
        "colab": {
          "base_uri": "https://localhost:8080/",
          "height": 179
        },
        "id": "BujjlJVpk4mZ",
        "outputId": "eeb7453c-388a-4f6b-f974-8d3b3b1798a2"
      },
      "source": [
        "plt.subplot(2,2,1)\n",
        "sns.countplot(data=df,x=\"Gender\",hue=\"Loan_Status\")\n",
        "\n",
        "plt.subplot(2,2,2)\n",
        "sns.countplot(data=df,x=\"Self_Employed\",hue=\"Loan_Status\")"
      ],
      "execution_count": 8,
      "outputs": [
        {
          "output_type": "execute_result",
          "data": {
            "text/plain": [
              "<matplotlib.axes._subplots.AxesSubplot at 0x7fe101759e10>"
            ]
          },
          "metadata": {
            "tags": []
          },
          "execution_count": 8
        },
        {
          "output_type": "display_data",
          "data": {
            "image/png": "[encoded data removed]",
            "text/plain": [
              "<Figure size 432x288 with 2 Axes>"
            ]
          },
          "metadata": {
            "tags": [],
            "needs_background": "light"
          }
        }
      ]
    },
    {
      "cell_type": "code",
      "metadata": {
        "colab": {
          "base_uri": "https://localhost:8080/"
        },
        "id": "N4JQ9zBmlC9j",
        "outputId": "fe343972-6d17-4907-f15c-774e73330875"
      },
      "source": [
        "df['Gender']=df['Gender'].fillna(\"Male\")\n",
        "df[\"Self_Employed\"]=df[\"Self_Employed\"].fillna(\"No\")\n",
        "df.isna().sum()"
      ],
      "execution_count": 9,
      "outputs": [
        {
          "output_type": "execute_result",
          "data": {
            "text/plain": [
              "Gender               0\n",
              "Married              3\n",
              "Dependents           0\n",
              "Education            0\n",
              "Self_Employed        0\n",
              "ApplicantIncome      0\n",
              "CoapplicantIncome    0\n",
              "LoanAmount           0\n",
              "Loan_Amount_Term     0\n",
              "Credit_History       0\n",
              "Property_Area        0\n",
              "Loan_Status          0\n",
              "dtype: int64"
            ]
          },
          "metadata": {
            "tags": []
          },
          "execution_count": 9
        }
      ]
    },
    {
      "cell_type": "code",
      "metadata": {
        "colab": {
          "base_uri": "https://localhost:8080/"
        },
        "id": "a3LzbVnTlMOk",
        "outputId": "cc88f7b8-01a9-47fe-90b6-3b807d41f4d1"
      },
      "source": [
        "df[\"Married\"]=df[\"Married\"].fillna('Yes')\n",
        "df.isna().sum()"
      ],
      "execution_count": 10,
      "outputs": [
        {
          "output_type": "execute_result",
          "data": {
            "text/plain": [
              "Gender               0\n",
              "Married              0\n",
              "Dependents           0\n",
              "Education            0\n",
              "Self_Employed        0\n",
              "ApplicantIncome      0\n",
              "CoapplicantIncome    0\n",
              "LoanAmount           0\n",
              "Loan_Amount_Term     0\n",
              "Credit_History       0\n",
              "Property_Area        0\n",
              "Loan_Status          0\n",
              "dtype: int64"
            ]
          },
          "metadata": {
            "tags": []
          },
          "execution_count": 10
        }
      ]
    },
    {
      "cell_type": "markdown",
      "metadata": {
        "id": "xLNljBEJljl-"
      },
      "source": [
        "Encoding Values"
      ]
    },
    {
      "cell_type": "code",
      "metadata": {
        "id": "DcyL2hMclVET"
      },
      "source": [
        "df[\"Gender\"]=df[\"Gender\"].astype(str)\n",
        "df[\"Married\"]=df[\"Married\"].astype(str)\n",
        "df[\"Dependents\"]=df[\"Dependents\"].astype(str)\n",
        "df[\"Education\"]=df[\"Education\"].astype(str)\n",
        "df[\"Self_Employed\"]=df[\"Self_Employed\"].astype(str)\n",
        "df[\"Property_Area\"]=df[\"Property_Area\"].astype(str)\n",
        "df[\"Loan_Status\"]=df[\"Loan_Status\"].astype(str)\n",
        "\n",
        "encoder=LabelEncoder()\n",
        "encoder.fit(df[\"Gender\"])\n",
        "df[\"Gender\"]=encoder.transform(df[\"Gender\"])\n",
        "\n",
        "encoder.fit(df[\"Married\"])\n",
        "df[\"Married\"]=encoder.transform(df[\"Married\"])\n",
        "\n",
        "encoder.fit(df[\"Dependents\"])\n",
        "df[\"Dependents\"]=encoder.transform(df[\"Dependents\"])\n",
        "\n",
        "encoder.fit(df[\"Education\"])\n",
        "df[\"Education\"]=encoder.transform(df[\"Education\"])\n",
        "\n",
        "encoder.fit(df[\"Self_Employed\"])\n",
        "df[\"Self_Employed\"]=encoder.transform(df[\"Self_Employed\"])\n",
        "\n",
        "encoder.fit(df[\"Property_Area\"])\n",
        "df[\"Property_Area\"]=encoder.transform(df[\"Property_Area\"])\n",
        "\n",
        "encoder.fit(df[\"Loan_Status\"])\n",
        "df[\"Loan_Status\"]=encoder.transform(df[\"Loan_Status\"])\n"
      ],
      "execution_count": 11,
      "outputs": []
    },
    {
      "cell_type": "code",
      "metadata": {
        "colab": {
          "base_uri": "https://localhost:8080/",
          "height": 226
        },
        "id": "nw6c71H6lz3K",
        "outputId": "fa9dadd7-e46a-4d78-f7c6-db56d6948688"
      },
      "source": [
        "df.head()"
      ],
      "execution_count": 12,
      "outputs": [
        {
          "output_type": "execute_result",
          "data": {
            "text/html": [
              "<div>\n",
              "<style scoped>\n",
              "    .dataframe tbody tr th:only-of-type {\n",
              "        vertical-align: middle;\n",
              "    }\n",
              "\n",
              "    .dataframe tbody tr th {\n",
              "        vertical-align: top;\n",
              "    }\n",
              "\n",
              "    .dataframe thead th {\n",
              "        text-align: right;\n",
              "    }\n",
              "</style>\n",
              "<table border=\"1\" class=\"dataframe\">\n",
              "  <thead>\n",
              "    <tr style=\"text-align: right;\">\n",
              "      <th></th>\n",
              "      <th>Gender</th>\n",
              "      <th>Married</th>\n",
              "      <th>Dependents</th>\n",
              "      <th>Education</th>\n",
              "      <th>Self_Employed</th>\n",
              "      <th>ApplicantIncome</th>\n",
              "      <th>CoapplicantIncome</th>\n",
              "      <th>LoanAmount</th>\n",
              "      <th>Loan_Amount_Term</th>\n",
              "      <th>Credit_History</th>\n",
              "      <th>Property_Area</th>\n",
              "      <th>Loan_Status</th>\n",
              "    </tr>\n",
              "  </thead>\n",
              "  <tbody>\n",
              "    <tr>\n",
              "      <th>0</th>\n",
              "      <td>1</td>\n",
              "      <td>0</td>\n",
              "      <td>0</td>\n",
              "      <td>0</td>\n",
              "      <td>0</td>\n",
              "      <td>5849</td>\n",
              "      <td>0.0</td>\n",
              "      <td>128.0</td>\n",
              "      <td>360.0</td>\n",
              "      <td>1.0</td>\n",
              "      <td>2</td>\n",
              "      <td>1</td>\n",
              "    </tr>\n",
              "    <tr>\n",
              "      <th>1</th>\n",
              "      <td>1</td>\n",
              "      <td>1</td>\n",
              "      <td>1</td>\n",
              "      <td>0</td>\n",
              "      <td>0</td>\n",
              "      <td>4583</td>\n",
              "      <td>1508.0</td>\n",
              "      <td>128.0</td>\n",
              "      <td>360.0</td>\n",
              "      <td>1.0</td>\n",
              "      <td>0</td>\n",
              "      <td>0</td>\n",
              "    </tr>\n",
              "    <tr>\n",
              "      <th>2</th>\n",
              "      <td>1</td>\n",
              "      <td>1</td>\n",
              "      <td>0</td>\n",
              "      <td>0</td>\n",
              "      <td>1</td>\n",
              "      <td>3000</td>\n",
              "      <td>0.0</td>\n",
              "      <td>66.0</td>\n",
              "      <td>360.0</td>\n",
              "      <td>1.0</td>\n",
              "      <td>2</td>\n",
              "      <td>1</td>\n",
              "    </tr>\n",
              "    <tr>\n",
              "      <th>3</th>\n",
              "      <td>1</td>\n",
              "      <td>1</td>\n",
              "      <td>0</td>\n",
              "      <td>1</td>\n",
              "      <td>0</td>\n",
              "      <td>2583</td>\n",
              "      <td>2358.0</td>\n",
              "      <td>120.0</td>\n",
              "      <td>360.0</td>\n",
              "      <td>1.0</td>\n",
              "      <td>2</td>\n",
              "      <td>1</td>\n",
              "    </tr>\n",
              "    <tr>\n",
              "      <th>4</th>\n",
              "      <td>1</td>\n",
              "      <td>0</td>\n",
              "      <td>0</td>\n",
              "      <td>0</td>\n",
              "      <td>0</td>\n",
              "      <td>6000</td>\n",
              "      <td>0.0</td>\n",
              "      <td>141.0</td>\n",
              "      <td>360.0</td>\n",
              "      <td>1.0</td>\n",
              "      <td>2</td>\n",
              "      <td>1</td>\n",
              "    </tr>\n",
              "  </tbody>\n",
              "</table>\n",
              "</div>"
            ],
            "text/plain": [
              "   Gender  Married  Dependents  ...  Credit_History  Property_Area  Loan_Status\n",
              "0       1        0           0  ...             1.0              2            1\n",
              "1       1        1           1  ...             1.0              0            0\n",
              "2       1        1           0  ...             1.0              2            1\n",
              "3       1        1           0  ...             1.0              2            1\n",
              "4       1        0           0  ...             1.0              2            1\n",
              "\n",
              "[5 rows x 12 columns]"
            ]
          },
          "metadata": {
            "tags": []
          },
          "execution_count": 12
        }
      ]
    },
    {
      "cell_type": "code",
      "metadata": {
        "colab": {
          "base_uri": "https://localhost:8080/"
        },
        "id": "BKFqD95qmvBX",
        "outputId": "56f9d0f1-4704-41a5-c9c8-9d87c4f9e471"
      },
      "source": [
        "df.shape"
      ],
      "execution_count": 13,
      "outputs": [
        {
          "output_type": "execute_result",
          "data": {
            "text/plain": [
              "(614, 12)"
            ]
          },
          "metadata": {
            "tags": []
          },
          "execution_count": 13
        }
      ]
    },
    {
      "cell_type": "code",
      "metadata": {
        "id": "wq40lJ49mJAe"
      },
      "source": [
        "x=df.iloc[:,:-1]\n",
        "#x=df.drop(columns=[\"Outcome\"])\n",
        "y=df.iloc[:,-1]\n",
        "\n",
        "xtrain,xtest,ytrain,ytest=train_test_split(x,y,test_size=0.2,random_state=0)"
      ],
      "execution_count": 14,
      "outputs": []
    },
    {
      "cell_type": "markdown",
      "metadata": {
        "id": "KTjqYhkxmVX5"
      },
      "source": [
        "##Fit model"
      ]
    },
    {
      "cell_type": "code",
      "metadata": {
        "colab": {
          "base_uri": "https://localhost:8080/"
        },
        "id": "P4yZdFxymLhX",
        "outputId": "b38fb04e-fafb-4ce3-f246-8f597a1ee733"
      },
      "source": [
        "\n",
        "model=Sequential()\n",
        "#3 layers , dimensions = 11 <--feature columns\n",
        "model.add(Dense(12,activation=\"relu\",input_dim=11))\n",
        "model.add(Dense(10,activation=\"relu\"))\n",
        "model.add(Dense(1,activation=\"sigmoid\"))\n",
        "model.summary()"
      ],
      "execution_count": 15,
      "outputs": [
        {
          "output_type": "stream",
          "text": [
            "Model: \"sequential\"\n",
            "_________________________________________________________________\n",
            "Layer (type)                 Output Shape              Param #   \n",
            "=================================================================\n",
            "dense (Dense)                (None, 12)                144       \n",
            "_________________________________________________________________\n",
            "dense_1 (Dense)              (None, 10)                130       \n",
            "_________________________________________________________________\n",
            "dense_2 (Dense)              (None, 1)                 11        \n",
            "=================================================================\n",
            "Total params: 285\n",
            "Trainable params: 285\n",
            "Non-trainable params: 0\n",
            "_________________________________________________________________\n"
          ],
          "name": "stdout"
        }
      ]
    },
    {
      "cell_type": "code",
      "metadata": {
        "id": "aSVwPARcmZTV"
      },
      "source": [
        "#binary entropy hinge, squared hinge loss, optimizer reduces loss\n",
        "model.compile(loss=\"binary_crossentropy\",optimizer=\"adam\",metrics=['accuracy'])"
      ],
      "execution_count": 16,
      "outputs": []
    },
    {
      "cell_type": "code",
      "metadata": {
        "colab": {
          "base_uri": "https://localhost:8080/"
        },
        "id": "1oxoiqsNmjy6",
        "outputId": "506895c2-9e21-48bf-e934-5e7476db9896"
      },
      "source": [
        "# epochs 50----->each batch will pass 50 times\n",
        "#batch 10\n",
        "history=model.fit(xtrain,ytrain,epochs=50,batch_size=10)"
      ],
      "execution_count": 17,
      "outputs": [
        {
          "output_type": "stream",
          "text": [
            "Epoch 1/50\n",
            "50/50 [==============================] - 1s 1ms/step - loss: 181.1924 - accuracy: 0.4741\n",
            "Epoch 2/50\n",
            "50/50 [==============================] - 0s 1ms/step - loss: 72.3729 - accuracy: 0.5747\n",
            "Epoch 3/50\n",
            "50/50 [==============================] - 0s 1ms/step - loss: 33.7980 - accuracy: 0.6371\n",
            "Epoch 4/50\n",
            "50/50 [==============================] - 0s 1ms/step - loss: 13.5052 - accuracy: 0.5882\n",
            "Epoch 5/50\n",
            "50/50 [==============================] - 0s 1ms/step - loss: 7.6590 - accuracy: 0.5107\n",
            "Epoch 6/50\n",
            "50/50 [==============================] - 0s 1ms/step - loss: 3.5952 - accuracy: 0.6225\n",
            "Epoch 7/50\n",
            "50/50 [==============================] - 0s 1ms/step - loss: 4.1448 - accuracy: 0.5365\n",
            "Epoch 8/50\n",
            "50/50 [==============================] - 0s 1ms/step - loss: 3.1515 - accuracy: 0.6120\n",
            "Epoch 9/50\n",
            "50/50 [==============================] - 0s 1ms/step - loss: 2.8717 - accuracy: 0.6107\n",
            "Epoch 10/50\n",
            "50/50 [==============================] - 0s 1ms/step - loss: 3.7578 - accuracy: 0.5450\n",
            "Epoch 11/50\n",
            "50/50 [==============================] - 0s 1ms/step - loss: 2.9777 - accuracy: 0.6036\n",
            "Epoch 12/50\n",
            "50/50 [==============================] - 0s 1ms/step - loss: 2.5853 - accuracy: 0.5737\n",
            "Epoch 13/50\n",
            "50/50 [==============================] - 0s 2ms/step - loss: 2.9513 - accuracy: 0.5991\n",
            "Epoch 14/50\n",
            "50/50 [==============================] - 0s 1ms/step - loss: 4.8909 - accuracy: 0.4794\n",
            "Epoch 15/50\n",
            "50/50 [==============================] - 0s 1ms/step - loss: 2.3656 - accuracy: 0.5937\n",
            "Epoch 16/50\n",
            "50/50 [==============================] - 0s 2ms/step - loss: 2.3582 - accuracy: 0.5223\n",
            "Epoch 17/50\n",
            "50/50 [==============================] - 0s 1ms/step - loss: 3.2161 - accuracy: 0.5406\n",
            "Epoch 18/50\n",
            "50/50 [==============================] - 0s 1ms/step - loss: 2.0220 - accuracy: 0.6024\n",
            "Epoch 19/50\n",
            "50/50 [==============================] - 0s 1ms/step - loss: 2.4930 - accuracy: 0.6014\n",
            "Epoch 20/50\n",
            "50/50 [==============================] - 0s 1ms/step - loss: 1.8858 - accuracy: 0.6039\n",
            "Epoch 21/50\n",
            "50/50 [==============================] - 0s 1ms/step - loss: 2.2713 - accuracy: 0.5743\n",
            "Epoch 22/50\n",
            "50/50 [==============================] - 0s 2ms/step - loss: 2.4025 - accuracy: 0.6230\n",
            "Epoch 23/50\n",
            "50/50 [==============================] - 0s 1ms/step - loss: 2.0070 - accuracy: 0.5784\n",
            "Epoch 24/50\n",
            "50/50 [==============================] - 0s 1ms/step - loss: 2.0773 - accuracy: 0.5623\n",
            "Epoch 25/50\n",
            "50/50 [==============================] - 0s 2ms/step - loss: 3.0617 - accuracy: 0.5645\n",
            "Epoch 26/50\n",
            "50/50 [==============================] - 0s 1ms/step - loss: 2.1146 - accuracy: 0.6145\n",
            "Epoch 27/50\n",
            "50/50 [==============================] - 0s 1ms/step - loss: 1.5787 - accuracy: 0.6258\n",
            "Epoch 28/50\n",
            "50/50 [==============================] - 0s 1ms/step - loss: 1.2573 - accuracy: 0.6472\n",
            "Epoch 29/50\n",
            "50/50 [==============================] - 0s 1ms/step - loss: 3.1506 - accuracy: 0.6302\n",
            "Epoch 30/50\n",
            "50/50 [==============================] - 0s 1ms/step - loss: 2.7134 - accuracy: 0.5361\n",
            "Epoch 31/50\n",
            "50/50 [==============================] - 0s 1ms/step - loss: 1.3727 - accuracy: 0.6251\n",
            "Epoch 32/50\n",
            "50/50 [==============================] - 0s 1ms/step - loss: 1.1760 - accuracy: 0.6126\n",
            "Epoch 33/50\n",
            "50/50 [==============================] - 0s 1ms/step - loss: 1.8204 - accuracy: 0.5790\n",
            "Epoch 34/50\n",
            "50/50 [==============================] - 0s 2ms/step - loss: 2.0794 - accuracy: 0.6732\n",
            "Epoch 35/50\n",
            "50/50 [==============================] - 0s 1ms/step - loss: 2.3472 - accuracy: 0.5367\n",
            "Epoch 36/50\n",
            "50/50 [==============================] - 0s 1ms/step - loss: 1.7960 - accuracy: 0.5476\n",
            "Epoch 37/50\n",
            "50/50 [==============================] - 0s 1ms/step - loss: 1.2960 - accuracy: 0.6121\n",
            "Epoch 38/50\n",
            "50/50 [==============================] - 0s 1ms/step - loss: 1.2055 - accuracy: 0.6245\n",
            "Epoch 39/50\n",
            "50/50 [==============================] - 0s 1ms/step - loss: 1.7341 - accuracy: 0.5666\n",
            "Epoch 40/50\n",
            "50/50 [==============================] - 0s 1ms/step - loss: 2.6574 - accuracy: 0.5384\n",
            "Epoch 41/50\n",
            "50/50 [==============================] - 0s 1ms/step - loss: 1.2960 - accuracy: 0.6509\n",
            "Epoch 42/50\n",
            "50/50 [==============================] - 0s 2ms/step - loss: 2.3138 - accuracy: 0.6310\n",
            "Epoch 43/50\n",
            "50/50 [==============================] - 0s 2ms/step - loss: 1.9090 - accuracy: 0.6185\n",
            "Epoch 44/50\n",
            "50/50 [==============================] - 0s 1ms/step - loss: 1.4067 - accuracy: 0.6158\n",
            "Epoch 45/50\n",
            "50/50 [==============================] - 0s 1ms/step - loss: 1.4534 - accuracy: 0.6346\n",
            "Epoch 46/50\n",
            "50/50 [==============================] - 0s 1ms/step - loss: 1.0751 - accuracy: 0.6289\n",
            "Epoch 47/50\n",
            "50/50 [==============================] - 0s 1ms/step - loss: 1.4490 - accuracy: 0.6254\n",
            "Epoch 48/50\n",
            "50/50 [==============================] - 0s 1ms/step - loss: 1.5770 - accuracy: 0.6265\n",
            "Epoch 49/50\n",
            "50/50 [==============================] - 0s 1ms/step - loss: 2.2851 - accuracy: 0.5594\n",
            "Epoch 50/50\n",
            "50/50 [==============================] - 0s 1ms/step - loss: 2.0041 - accuracy: 0.5848\n"
          ],
          "name": "stdout"
        }
      ]
    },
    {
      "cell_type": "code",
      "metadata": {
        "colab": {
          "base_uri": "https://localhost:8080/",
          "height": 286
        },
        "id": "moItHn7Zm_A0",
        "outputId": "7c97bd8e-337b-468e-e536-95b1f7c8b403"
      },
      "source": [
        "\n",
        "#plot epoch Vs Loss \n",
        "plt.plot(range(1,51),history.history[\"loss\"])"
      ],
      "execution_count": 18,
      "outputs": [
        {
          "output_type": "execute_result",
          "data": {
            "text/plain": [
              "[<matplotlib.lines.Line2D at 0x7fe103cf6210>]"
            ]
          },
          "metadata": {
            "tags": []
          },
          "execution_count": 18
        },
        {
          "output_type": "display_data",
          "data": {
            "image/png": "[encoded data removed]",
            "text/plain": [
              "<Figure size 432x288 with 1 Axes>"
            ]
          },
          "metadata": {
            "tags": [],
            "needs_background": "light"
          }
        }
      ]
    },
    {
      "cell_type": "code",
      "metadata": {
        "colab": {
          "base_uri": "https://localhost:8080/",
          "height": 282
        },
        "id": "mo8fR0HWnGDs",
        "outputId": "062667cb-f1e7-4b66-aa8f-edc0e786f272"
      },
      "source": [
        "#plot epoch Vs Accuracy \n",
        "plt.plot(range(1,51),history.history[\"accuracy\"])"
      ],
      "execution_count": 19,
      "outputs": [
        {
          "output_type": "execute_result",
          "data": {
            "text/plain": [
              "[<matplotlib.lines.Line2D at 0x7fe0fa9d1610>]"
            ]
          },
          "metadata": {
            "tags": []
          },
          "execution_count": 19
        },
        {
          "output_type": "display_data",
          "data": {
            "image/png": "[encoded data removed]",
            "text/plain": [
              "<Figure size 432x288 with 1 Axes>"
            ]
          },
          "metadata": {
            "tags": [],
            "needs_background": "light"
          }
        }
      ]
    },
    {
      "cell_type": "code",
      "metadata": {
        "colab": {
          "base_uri": "https://localhost:8080/"
        },
        "id": "-9Krou71nKEw",
        "outputId": "0b1d3c63-6c11-45f0-bf74-a9e370b279c3"
      },
      "source": [
        "ypred=model.predict_classes(xtest)"
      ],
      "execution_count": 20,
      "outputs": [
        {
          "output_type": "stream",
          "text": [
            "/usr/local/lib/python3.7/dist-packages/tensorflow/python/keras/engine/sequential.py:450: UserWarning: `model.predict_classes()` is deprecated and will be removed after 2021-01-01. Please use instead:* `np.argmax(model.predict(x), axis=-1)`,   if your model does multi-class classification   (e.g. if it uses a `softmax` last-layer activation).* `(model.predict(x) > 0.5).astype(\"int32\")`,   if your model does binary classification   (e.g. if it uses a `sigmoid` last-layer activation).\n",
            "  warnings.warn('`model.predict_classes()` is deprecated and '\n"
          ],
          "name": "stderr"
        }
      ]
    },
    {
      "cell_type": "code",
      "metadata": {
        "colab": {
          "base_uri": "https://localhost:8080/"
        },
        "id": "tXOK5lZ_nerP",
        "outputId": "b138405c-3699-4a5d-faa2-43e871ad4102"
      },
      "source": [
        "ypred.flatten()"
      ],
      "execution_count": 21,
      "outputs": [
        {
          "output_type": "execute_result",
          "data": {
            "text/plain": [
              "array([1, 1, 1, 1, 1, 1, 1, 1, 1, 1, 1, 1, 1, 1, 1, 1, 1, 1, 1, 1, 1, 1,\n",
              "       1, 0, 1, 1, 1, 1, 1, 1, 1, 1, 1, 1, 1, 1, 1, 1, 1, 1, 1, 1, 1, 1,\n",
              "       1, 0, 1, 1, 1, 1, 1, 1, 1, 1, 1, 1, 1, 1, 0, 1, 1, 1, 1, 1, 1, 1,\n",
              "       1, 1, 1, 1, 1, 1, 1, 1, 0, 0, 0, 1, 1, 1, 0, 1, 1, 1, 1, 1, 1, 1,\n",
              "       1, 1, 1, 1, 1, 1, 1, 1, 1, 1, 1, 1, 1, 1, 1, 1, 1, 1, 1, 1, 1, 1,\n",
              "       1, 1, 1, 1, 1, 1, 1, 1, 1, 1, 1, 1, 1], dtype=int32)"
            ]
          },
          "metadata": {
            "tags": []
          },
          "execution_count": 21
        }
      ]
    },
    {
      "cell_type": "code",
      "metadata": {
        "colab": {
          "base_uri": "https://localhost:8080/"
        },
        "id": "CFgGcFhunjy7",
        "outputId": "7031e213-34bd-4804-a7f0-507524bf109d"
      },
      "source": [
        "loss,acc=model.evaluate(xtrain,ytrain)"
      ],
      "execution_count": 22,
      "outputs": [
        {
          "output_type": "stream",
          "text": [
            "16/16 [==============================] - 0s 1ms/step - loss: 1.4747 - accuracy: 0.6864\n"
          ],
          "name": "stdout"
        }
      ]
    },
    {
      "cell_type": "code",
      "metadata": {
        "colab": {
          "base_uri": "https://localhost:8080/"
        },
        "id": "zZfB4GjnnpIV",
        "outputId": "e5015017-d940-4dc1-bc85-d003e16882ca"
      },
      "source": [
        "loss,acc=model.evaluate(xtest,ytest)"
      ],
      "execution_count": 23,
      "outputs": [
        {
          "output_type": "stream",
          "text": [
            "4/4 [==============================] - 0s 3ms/step - loss: 1.1374 - accuracy: 0.6911\n"
          ],
          "name": "stdout"
        }
      ]
    },
    {
      "cell_type": "code",
      "metadata": {
        "colab": {
          "base_uri": "https://localhost:8080/"
        },
        "id": "9q3DRrTpnvJN",
        "outputId": "bcc19121-8a26-481b-c481-5377baf3a80b"
      },
      "source": [
        "report=classification_report(ytest,ypred)\n",
        "print(report)"
      ],
      "execution_count": 24,
      "outputs": [
        {
          "output_type": "stream",
          "text": [
            "              precision    recall  f1-score   support\n",
            "\n",
            "           0       0.14      0.03      0.05        33\n",
            "           1       0.72      0.93      0.82        90\n",
            "\n",
            "    accuracy                           0.69       123\n",
            "   macro avg       0.43      0.48      0.43       123\n",
            "weighted avg       0.57      0.69      0.61       123\n",
            "\n"
          ],
          "name": "stdout"
        }
      ]
    },
    {
      "cell_type": "code",
      "metadata": {
        "colab": {
          "base_uri": "https://localhost:8080/",
          "height": 282
        },
        "id": "MfOx1XlXpv74",
        "outputId": "45cd9e5e-ef5c-4a0f-d715-e9877ca96483"
      },
      "source": [
        "cm=confusion_matrix(ytest,ypred)\n",
        "sns.heatmap(cm,annot=True)"
      ],
      "execution_count": 25,
      "outputs": [
        {
          "output_type": "execute_result",
          "data": {
            "text/plain": [
              "<matplotlib.axes._subplots.AxesSubplot at 0x7fe0fa94cad0>"
            ]
          },
          "metadata": {
            "tags": []
          },
          "execution_count": 25
        },
        {
          "output_type": "display_data",
          "data": {
            "image/png": "[encoded data removed]",
            "text/plain": [
              "<Figure size 432x288 with 2 Axes>"
            ]
          },
          "metadata": {
            "tags": [],
            "needs_background": "light"
          }
        }
      ]
    },
    {
      "cell_type": "code",
      "metadata": {
        "colab": {
          "base_uri": "https://localhost:8080/",
          "height": 456
        },
        "id": "ZLXeUdUXqDZN",
        "outputId": "9cfc3319-0c2f-42d5-a3b0-811e3cd1af8b"
      },
      "source": [
        "sns.catplot(df['Loan_Status'],data=df,kind='count')"
      ],
      "execution_count": 26,
      "outputs": [
        {
          "output_type": "stream",
          "text": [
            "/usr/local/lib/python3.7/dist-packages/seaborn/_decorators.py:43: FutureWarning: Pass the following variable as a keyword arg: x. From version 0.12, the only valid positional argument will be `data`, and passing other arguments without an explicit keyword will result in an error or misinterpretation.\n",
            "  FutureWarning\n"
          ],
          "name": "stderr"
        },
        {
          "output_type": "execute_result",
          "data": {
            "text/plain": [
              "<seaborn.axisgrid.FacetGrid at 0x7fe0fa9e7b50>"
            ]
          },
          "metadata": {
            "tags": []
          },
          "execution_count": 26
        },
        {
          "output_type": "display_data",
          "data": {
            "image/png": "[encoded data removed]",
            "text/plain": [
              "<Figure size 360x360 with 1 Axes>"
            ]
          },
          "metadata": {
            "tags": [],
            "needs_background": "light"
          }
        }
      ]
    },
    {
      "cell_type": "code",
      "metadata": {
        "id": "W3b_y_UysDtZ"
      },
      "source": [
        "#over sampling of data\n",
        "no=df[df[\"Loan_Status\"]==0].index\n",
        "yes=df[df[\"Loan_Status\"]==1].index\n",
        "\n",
        "#random_index for fraud with majority class size\n",
        "random_index=np.array(np.random.choice(no,len(yes),replace=True))\n",
        "\n",
        "oversample_index=np.concatenate([yes,random_index])\n",
        "oversample=df.loc[oversample_index,:]\n",
        "x=oversample.drop(columns=[\"Loan_Status\"])\n",
        "y=oversample[\"Loan_Status\"]\n",
        "from sklearn.model_selection import train_test_split\n",
        "xtrain,xtest,ytrain,ytest=train_test_split(x,y,test_size=0.2,random_state=0)"
      ],
      "execution_count": 27,
      "outputs": []
    },
    {
      "cell_type": "code",
      "metadata": {
        "colab": {
          "base_uri": "https://localhost:8080/",
          "height": 456
        },
        "id": "g47c6_6WsjJ-",
        "outputId": "779a9c52-a8c1-4688-d0a1-7e8a5f103f5b"
      },
      "source": [
        "sns.catplot(oversample['Loan_Status'],data=oversample,kind='count')"
      ],
      "execution_count": 28,
      "outputs": [
        {
          "output_type": "stream",
          "text": [
            "/usr/local/lib/python3.7/dist-packages/seaborn/_decorators.py:43: FutureWarning: Pass the following variable as a keyword arg: x. From version 0.12, the only valid positional argument will be `data`, and passing other arguments without an explicit keyword will result in an error or misinterpretation.\n",
            "  FutureWarning\n"
          ],
          "name": "stderr"
        },
        {
          "output_type": "execute_result",
          "data": {
            "text/plain": [
              "<seaborn.axisgrid.FacetGrid at 0x7fe1011b2bd0>"
            ]
          },
          "metadata": {
            "tags": []
          },
          "execution_count": 28
        },
        {
          "output_type": "display_data",
          "data": {
            "image/png": "[encoded data removed]",
            "text/plain": [
              "<Figure size 360x360 with 1 Axes>"
            ]
          },
          "metadata": {
            "tags": [],
            "needs_background": "light"
          }
        }
      ]
    },
    {
      "cell_type": "code",
      "metadata": {
        "colab": {
          "base_uri": "https://localhost:8080/"
        },
        "id": "4jmim7pNs5QT",
        "outputId": "6265da06-58d2-4790-df57-9610e4666138"
      },
      "source": [
        "history=model.fit(xtrain,ytrain,epochs=50,batch_size=10)"
      ],
      "execution_count": 29,
      "outputs": [
        {
          "output_type": "stream",
          "text": [
            "Epoch 1/50\n",
            "68/68 [==============================] - 0s 1ms/step - loss: 1.8815 - accuracy: 0.4993\n",
            "Epoch 2/50\n",
            "68/68 [==============================] - 0s 1ms/step - loss: 1.9043 - accuracy: 0.5422\n",
            "Epoch 3/50\n",
            "68/68 [==============================] - 0s 1ms/step - loss: 1.2157 - accuracy: 0.5289\n",
            "Epoch 4/50\n",
            "68/68 [==============================] - 0s 1ms/step - loss: 1.4188 - accuracy: 0.5496\n",
            "Epoch 5/50\n",
            "68/68 [==============================] - 0s 1ms/step - loss: 0.9811 - accuracy: 0.4874\n",
            "Epoch 6/50\n",
            "68/68 [==============================] - 0s 1ms/step - loss: 1.6110 - accuracy: 0.5096\n",
            "Epoch 7/50\n",
            "68/68 [==============================] - 0s 1ms/step - loss: 2.3891 - accuracy: 0.5289\n",
            "Epoch 8/50\n",
            "68/68 [==============================] - 0s 1ms/step - loss: 2.4584 - accuracy: 0.5141\n",
            "Epoch 9/50\n",
            "68/68 [==============================] - 0s 1ms/step - loss: 1.6997 - accuracy: 0.5378\n",
            "Epoch 10/50\n",
            "68/68 [==============================] - 0s 1ms/step - loss: 1.0919 - accuracy: 0.5230\n",
            "Epoch 11/50\n",
            "68/68 [==============================] - 0s 1ms/step - loss: 2.3300 - accuracy: 0.5037\n",
            "Epoch 12/50\n",
            "68/68 [==============================] - 0s 1ms/step - loss: 2.7069 - accuracy: 0.5259\n",
            "Epoch 13/50\n",
            "68/68 [==============================] - 0s 1ms/step - loss: 1.5425 - accuracy: 0.5378\n",
            "Epoch 14/50\n",
            "68/68 [==============================] - 0s 1ms/step - loss: 1.4142 - accuracy: 0.5037\n",
            "Epoch 15/50\n",
            "68/68 [==============================] - 0s 1ms/step - loss: 1.1746 - accuracy: 0.5230\n",
            "Epoch 16/50\n",
            "68/68 [==============================] - 0s 1ms/step - loss: 1.6140 - accuracy: 0.5422\n",
            "Epoch 17/50\n",
            "68/68 [==============================] - 0s 1ms/step - loss: 1.8009 - accuracy: 0.5467\n",
            "Epoch 18/50\n",
            "68/68 [==============================] - 0s 1ms/step - loss: 3.7003 - accuracy: 0.5052\n",
            "Epoch 19/50\n",
            "68/68 [==============================] - 0s 1ms/step - loss: 1.6167 - accuracy: 0.5244\n",
            "Epoch 20/50\n",
            "68/68 [==============================] - 0s 1ms/step - loss: 1.2333 - accuracy: 0.5111\n",
            "Epoch 21/50\n",
            "68/68 [==============================] - 0s 1ms/step - loss: 1.1613 - accuracy: 0.5556\n",
            "Epoch 22/50\n",
            "68/68 [==============================] - 0s 1ms/step - loss: 1.3311 - accuracy: 0.5511\n",
            "Epoch 23/50\n",
            "68/68 [==============================] - 0s 1ms/step - loss: 1.5968 - accuracy: 0.5526\n",
            "Epoch 24/50\n",
            "68/68 [==============================] - 0s 1ms/step - loss: 1.9140 - accuracy: 0.5319\n",
            "Epoch 25/50\n",
            "68/68 [==============================] - 0s 1ms/step - loss: 1.2506 - accuracy: 0.5363\n",
            "Epoch 26/50\n",
            "68/68 [==============================] - 0s 1ms/step - loss: 1.1983 - accuracy: 0.5215\n",
            "Epoch 27/50\n",
            "68/68 [==============================] - 0s 1ms/step - loss: 1.1177 - accuracy: 0.5719\n",
            "Epoch 28/50\n",
            "68/68 [==============================] - 0s 1ms/step - loss: 1.8722 - accuracy: 0.5319\n",
            "Epoch 29/50\n",
            "68/68 [==============================] - 0s 1ms/step - loss: 1.3325 - accuracy: 0.5141\n",
            "Epoch 30/50\n",
            "68/68 [==============================] - 0s 1ms/step - loss: 1.2412 - accuracy: 0.5556\n",
            "Epoch 31/50\n",
            "68/68 [==============================] - 0s 1ms/step - loss: 1.4129 - accuracy: 0.5259\n",
            "Epoch 32/50\n",
            "68/68 [==============================] - 0s 1ms/step - loss: 1.6100 - accuracy: 0.5156\n",
            "Epoch 33/50\n",
            "68/68 [==============================] - 0s 1ms/step - loss: 1.5204 - accuracy: 0.5422\n",
            "Epoch 34/50\n",
            "68/68 [==============================] - 0s 1ms/step - loss: 1.3552 - accuracy: 0.5407\n",
            "Epoch 35/50\n",
            "68/68 [==============================] - 0s 1ms/step - loss: 1.4075 - accuracy: 0.5526\n",
            "Epoch 36/50\n",
            "68/68 [==============================] - 0s 1ms/step - loss: 1.6445 - accuracy: 0.5407\n",
            "Epoch 37/50\n",
            "68/68 [==============================] - 0s 1ms/step - loss: 1.0551 - accuracy: 0.5363\n",
            "Epoch 38/50\n",
            "68/68 [==============================] - 0s 1ms/step - loss: 1.6359 - accuracy: 0.5096\n",
            "Epoch 39/50\n",
            "68/68 [==============================] - 0s 1ms/step - loss: 1.8783 - accuracy: 0.5704\n",
            "Epoch 40/50\n",
            "68/68 [==============================] - 0s 1ms/step - loss: 1.5157 - accuracy: 0.5052\n",
            "Epoch 41/50\n",
            "68/68 [==============================] - 0s 1ms/step - loss: 1.3284 - accuracy: 0.5304\n",
            "Epoch 42/50\n",
            "68/68 [==============================] - 0s 1ms/step - loss: 1.0298 - accuracy: 0.4993\n",
            "Epoch 43/50\n",
            "68/68 [==============================] - 0s 1ms/step - loss: 1.0710 - accuracy: 0.5126\n",
            "Epoch 44/50\n",
            "68/68 [==============================] - 0s 1ms/step - loss: 1.4358 - accuracy: 0.5481\n",
            "Epoch 45/50\n",
            "68/68 [==============================] - 0s 1ms/step - loss: 1.5895 - accuracy: 0.5304\n",
            "Epoch 46/50\n",
            "68/68 [==============================] - 0s 1ms/step - loss: 1.3607 - accuracy: 0.5511\n",
            "Epoch 47/50\n",
            "68/68 [==============================] - 0s 1ms/step - loss: 1.0278 - accuracy: 0.5585\n",
            "Epoch 48/50\n",
            "68/68 [==============================] - 0s 1ms/step - loss: 1.1210 - accuracy: 0.5585\n",
            "Epoch 49/50\n",
            "68/68 [==============================] - 0s 1ms/step - loss: 1.1442 - accuracy: 0.5481\n",
            "Epoch 50/50\n",
            "68/68 [==============================] - 0s 1ms/step - loss: 1.1311 - accuracy: 0.5556\n"
          ],
          "name": "stdout"
        }
      ]
    },
    {
      "cell_type": "code",
      "metadata": {
        "colab": {
          "base_uri": "https://localhost:8080/"
        },
        "id": "70dG0urdtSYn",
        "outputId": "b3060cf9-44b9-4621-b7e3-735838118d30"
      },
      "source": [
        "ypred=model.predict_classes(xtest)"
      ],
      "execution_count": 30,
      "outputs": [
        {
          "output_type": "stream",
          "text": [
            "/usr/local/lib/python3.7/dist-packages/tensorflow/python/keras/engine/sequential.py:450: UserWarning: `model.predict_classes()` is deprecated and will be removed after 2021-01-01. Please use instead:* `np.argmax(model.predict(x), axis=-1)`,   if your model does multi-class classification   (e.g. if it uses a `softmax` last-layer activation).* `(model.predict(x) > 0.5).astype(\"int32\")`,   if your model does binary classification   (e.g. if it uses a `sigmoid` last-layer activation).\n",
            "  warnings.warn('`model.predict_classes()` is deprecated and '\n"
          ],
          "name": "stderr"
        }
      ]
    },
    {
      "cell_type": "code",
      "metadata": {
        "colab": {
          "base_uri": "https://localhost:8080/"
        },
        "id": "eWFj5xheteo8",
        "outputId": "8c617fbd-d360-438a-dc60-c584446ef40a"
      },
      "source": [
        "loss,acc=model.evaluate(xtrain,ytrain)"
      ],
      "execution_count": 31,
      "outputs": [
        {
          "output_type": "stream",
          "text": [
            "22/22 [==============================] - 0s 1ms/step - loss: 2.0751 - accuracy: 0.5437\n"
          ],
          "name": "stdout"
        }
      ]
    },
    {
      "cell_type": "code",
      "metadata": {
        "colab": {
          "base_uri": "https://localhost:8080/"
        },
        "id": "8AYADUOmti1E",
        "outputId": "05050243-73cf-40d7-ad66-72d5620079df"
      },
      "source": [
        "loss,acc=model.evaluate(xtest,ytest)"
      ],
      "execution_count": 32,
      "outputs": [
        {
          "output_type": "stream",
          "text": [
            "6/6 [==============================] - 0s 2ms/step - loss: 2.0876 - accuracy: 0.5089\n"
          ],
          "name": "stdout"
        }
      ]
    },
    {
      "cell_type": "code",
      "metadata": {
        "colab": {
          "base_uri": "https://localhost:8080/"
        },
        "id": "LXD2Ccces-IH",
        "outputId": "4c3c0951-44ad-4385-f0d2-3ce8b0614197"
      },
      "source": [
        "report=classification_report(ytest,ypred)\n",
        "print(report)"
      ],
      "execution_count": 33,
      "outputs": [
        {
          "output_type": "stream",
          "text": [
            "              precision    recall  f1-score   support\n",
            "\n",
            "           0       0.52      0.62      0.57        88\n",
            "           1       0.48      0.38      0.43        81\n",
            "\n",
            "    accuracy                           0.51       169\n",
            "   macro avg       0.50      0.50      0.50       169\n",
            "weighted avg       0.50      0.51      0.50       169\n",
            "\n"
          ],
          "name": "stdout"
        }
      ]
    },
    {
      "cell_type": "code",
      "metadata": {
        "colab": {
          "base_uri": "https://localhost:8080/",
          "height": 286
        },
        "id": "9qyKO1h2tHRc",
        "outputId": "eeb2a71d-fe27-45da-aa7f-88a9904cbf18"
      },
      "source": [
        "cm=confusion_matrix(ytest,ypred)\n",
        "sns.heatmap(cm,annot=True)"
      ],
      "execution_count": 34,
      "outputs": [
        {
          "output_type": "execute_result",
          "data": {
            "text/plain": [
              "<matplotlib.axes._subplots.AxesSubplot at 0x7fe0f0f02550>"
            ]
          },
          "metadata": {
            "tags": []
          },
          "execution_count": 34
        },
        {
          "output_type": "display_data",
          "data": {
            "image/png": "[encoded data removed]",
            "text/plain": [
              "<Figure size 432x288 with 2 Axes>"
            ]
          },
          "metadata": {
            "tags": [],
            "needs_background": "light"
          }
        }
      ]
    },
    {
      "cell_type": "code",
      "metadata": {
        "id": "42t7tabdtYus"
      },
      "source": [
        ""
      ],
      "execution_count": 34,
      "outputs": []
    }
  ]
}